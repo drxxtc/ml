{
  "nbformat": 4,
  "nbformat_minor": 0,
  "metadata": {
    "kernelspec": {
      "display_name": "Python 3",
      "language": "python",
      "name": "python3"
    },
    "language_info": {
      "codemirror_mode": {
        "name": "ipython",
        "version": 3
      },
      "file_extension": ".py",
      "mimetype": "text/x-python",
      "name": "python",
      "nbconvert_exporter": "python",
      "pygments_lexer": "ipython3",
      "version": "3.7.0"
    },
    "colab": {
      "name": "Lab3_1.ipynb",
      "provenance": []
    }
  },
  "cells": [
    {
      "cell_type": "markdown",
      "metadata": {
        "id": "so864DH1cI0s"
      },
      "source": [
        "## Лабораторная работа №3\n",
        "# Линейная регрессия на числовых параметрах"
      ]
    },
    {
      "cell_type": "markdown",
      "metadata": {
        "id": "VkQZtlt0cI02"
      },
      "source": [
        "## Задача\n",
        "Построить модель для прогнозирования цен на неджвижимость в Бостоне\n",
        "### Данные\n",
        "\n",
        "В качестве данных для модели используется датасет с набором данных по цене недвижимости в Бостоне. В наборе учетны 13 параметров, влияющих на цену недвижимости. Все параметры числовые.\n"
      ]
    },
    {
      "cell_type": "markdown",
      "metadata": {
        "id": "53q-jEfAcI03"
      },
      "source": [
        "#### Инструменты решения\n",
        "Решение будет в виде линейной регрессии. Теорию по линейной регрессии смотрите в лекции.\n",
        "Для создания модели используется библиотека SkLearn.\n",
        "Для обработки данных используется библиотека pandas\n"
      ]
    },
    {
      "cell_type": "markdown",
      "metadata": {
        "id": "4fmAsgT7cI03"
      },
      "source": [
        "Загрузим библиотеки"
      ]
    },
    {
      "cell_type": "code",
      "metadata": {
        "id": "G9NLb8wXcI04"
      },
      "source": [
        "import numpy as np\n",
        "#загрузим pandas\n",
        "import pandas as pd\n",
        "#загрузим функцию для данных\n",
        "from sklearn.datasets import load_boston\n",
        "#загрузим регрессор\n",
        "from sklearn.linear_model import LinearRegression\n",
        "# загрузим набор для измерения качества модели и инструмент для кросс валидации\n",
        "from sklearn import metrics \n",
        "from sklearn.model_selection import train_test_split"
      ],
      "execution_count": 29,
      "outputs": []
    },
    {
      "cell_type": "markdown",
      "metadata": {
        "id": "NJcLSVjTcI05"
      },
      "source": [
        "Для начала нужно подготовить данные с помощью библиотеки Pandas"
      ]
    },
    {
      "cell_type": "markdown",
      "metadata": {
        "id": "kPhDI4d5cI06"
      },
      "source": [
        "### Библиотека Pandas"
      ]
    },
    {
      "cell_type": "markdown",
      "metadata": {
        "id": "UU6BNb_NcI06"
      },
      "source": [
        "### Series"
      ]
    },
    {
      "cell_type": "markdown",
      "metadata": {
        "id": "uolkunuUcI06"
      },
      "source": [
        "<p>Конструкторв класса выглядит следующим образом</p>\n",
        "pandas.Series(data=None, index=None, dtype=None, name=None, copy=False, fastpath=False)\n",
        "data – массив, словарь или скалярное значение, на базе которого будет построен Series;\n",
        "\n",
        "index – список меток, который будет использоваться для доступа к элементам Series. Длина списка должна быть равна длине data;\n",
        "\n",
        "dtype – объект numpy.dtype, определяющий тип данных;\n",
        "\n",
        "copy – создает копию массива данных, если параметр равен True в ином случае ничего не делает."
      ]
    },
    {
      "cell_type": "markdown",
      "metadata": {
        "id": "gZhH1uvMcI07"
      },
      "source": [
        "Создание Series из списка"
      ]
    },
    {
      "cell_type": "code",
      "metadata": {
        "id": "VxijEa4zcI07",
        "outputId": "a6d4a690-59c6-4ede-b58b-1cce0172de16"
      },
      "source": [
        "s1 = pd.Series([1, 2, 3, 4, 5])\n",
        "print(s1)"
      ],
      "execution_count": null,
      "outputs": [
        {
          "output_type": "stream",
          "text": [
            "0    1\n",
            "1    2\n",
            "2    3\n",
            "3    4\n",
            "4    5\n",
            "dtype: int64\n"
          ],
          "name": "stdout"
        }
      ]
    },
    {
      "cell_type": "markdown",
      "metadata": {
        "id": "wlLr97nEcI07"
      },
      "source": [
        "Добавим индексы в виде букв"
      ]
    },
    {
      "cell_type": "code",
      "metadata": {
        "id": "nHTlYOyrcI08",
        "outputId": "71eb6f83-45ce-4fd6-fc80-17d956c2ce26"
      },
      "source": [
        "s2 = pd.Series([1, 2, 3, 4, 5], ['a','b', 'c','d','e'])\n",
        "print(s2)"
      ],
      "execution_count": null,
      "outputs": [
        {
          "output_type": "stream",
          "text": [
            "a    1\n",
            "b    2\n",
            "c    3\n",
            "d    4\n",
            "e    5\n",
            "dtype: int64\n"
          ],
          "name": "stdout"
        }
      ]
    },
    {
      "cell_type": "markdown",
      "metadata": {
        "id": "dLCIdaTtcI08"
      },
      "source": [
        "Создание Series из массива"
      ]
    },
    {
      "cell_type": "code",
      "metadata": {
        "id": "loFjde-bcI08",
        "outputId": "0db73ad1-1bf1-4c38-cc6e-69085c4d7d2b"
      },
      "source": [
        "arr1 = np.array([1,2,3,4])\n",
        "s3 = pd.Series(arr1, ['a','b', 'c','d'])\n",
        "print(s3)"
      ],
      "execution_count": null,
      "outputs": [
        {
          "output_type": "stream",
          "text": [
            "a    1\n",
            "b    2\n",
            "c    3\n",
            "d    4\n",
            "dtype: int32\n"
          ],
          "name": "stdout"
        }
      ]
    },
    {
      "cell_type": "markdown",
      "metadata": {
        "id": "_GsEcqTicI08"
      },
      "source": [
        "Обращение к элементу Series"
      ]
    },
    {
      "cell_type": "code",
      "metadata": {
        "id": "HY5DXB5ncI09",
        "outputId": "f8afffcb-8668-45d6-f0d6-79e84e362676"
      },
      "source": [
        "el1 = s3[0]\n",
        "print (el1)"
      ],
      "execution_count": null,
      "outputs": [
        {
          "output_type": "stream",
          "text": [
            "1\n"
          ],
          "name": "stdout"
        }
      ]
    },
    {
      "cell_type": "markdown",
      "metadata": {
        "id": "fIcJwPF-cI09"
      },
      "source": [
        "Обращение к индексу элемента"
      ]
    },
    {
      "cell_type": "code",
      "metadata": {
        "id": "qUYmj8LscI09",
        "outputId": "ff41ea9e-a3be-495b-ab6a-3aa33976e15c"
      },
      "source": [
        "el1index = s3.index[0]\n",
        "print (el1index)"
      ],
      "execution_count": null,
      "outputs": [
        {
          "output_type": "stream",
          "text": [
            "a\n"
          ],
          "name": "stdout"
        }
      ]
    },
    {
      "cell_type": "markdown",
      "metadata": {
        "id": "-N0FmkLtcI09"
      },
      "source": [
        "Выбор первых 2 элементов"
      ]
    },
    {
      "cell_type": "code",
      "metadata": {
        "id": "J-HC-okYcI0-",
        "outputId": "09c1eff9-7198-400b-e2ad-46cbf7b5c5c0"
      },
      "source": [
        "elements2 = s3[:2]\n",
        "print (elements2)"
      ],
      "execution_count": null,
      "outputs": [
        {
          "output_type": "stream",
          "text": [
            "a    1\n",
            "b    2\n",
            "dtype: int32\n"
          ],
          "name": "stdout"
        }
      ]
    },
    {
      "cell_type": "markdown",
      "metadata": {
        "id": "CSu6kHd5cI0-"
      },
      "source": [
        "### DataFrame"
      ]
    },
    {
      "cell_type": "markdown",
      "metadata": {
        "id": "alpKJRkccI0-"
      },
      "source": [
        "DataFrame представляет собой набор Series, а проще его представить как таблицу.\n",
        "**Конструктор класса DataFrame выглядит так:**\n",
        "\n",
        "class pandas.DataFrame(data=None, index=None, columns=None, dtype=None, copy=False)\n",
        "* data – массив ndarray, словарь (dict) или другой DataFrame;\n",
        "\n",
        "* index – список меток для записей (имена строк таблицы);\n",
        "\n",
        "* columns – список меток для полей (имена столбцов таблицы);\n",
        "\n",
        "* dtype – объект numpy.dtype, определяющий тип данных;\n",
        "\n",
        "* copy – создает копию массива данных, если параметр равен True в ином случае ничего не делает."
      ]
    },
    {
      "cell_type": "markdown",
      "metadata": {
        "id": "YLwZlNvscI0-"
      },
      "source": [
        "<p>Структуру DataFrame можно создать на базе:</p>\n",
        "\n",
        "* словаря (dict) в качестве элементов которого должны выступать: одномерные ndarray, списки, другие словари, структуры Series;\n",
        "* двумерные ndarray;\n",
        "* структуры Series;\n",
        "* структурированные ndarray;\n",
        "* другие DataFrame."
      ]
    },
    {
      "cell_type": "markdown",
      "metadata": {
        "id": "oX4gE93QcI0-"
      },
      "source": [
        "Создание на основе словаря из Series"
      ]
    },
    {
      "cell_type": "code",
      "metadata": {
        "id": "49qsH5n-cI0_",
        "outputId": "34638320-b92a-4a3b-b6b0-7b375abd2c24"
      },
      "source": [
        "d = {\"price\":pd.Series([1, 2, 3], index=['v1', 'v2', 'v3']),\n",
        "     \"count\": pd.Series([10, 12, 7], index=['v1', 'v2', 'v3'])}\n",
        "df1 = pd.DataFrame(d)\n",
        "\n",
        "print(df1)"
      ],
      "execution_count": null,
      "outputs": [
        {
          "output_type": "stream",
          "text": [
            "    price  count\n",
            "v1      1     10\n",
            "v2      2     12\n",
            "v3      3      7\n"
          ],
          "name": "stdout"
        }
      ]
    },
    {
      "cell_type": "markdown",
      "metadata": {
        "id": "j6Uf0osPcI0_"
      },
      "source": [
        "Выведем индексы"
      ]
    },
    {
      "cell_type": "code",
      "metadata": {
        "id": "nmCLpoiacI0_",
        "outputId": "100e3324-f886-4622-bfe9-8c1e2b77e23d"
      },
      "source": [
        "print(df1.index)"
      ],
      "execution_count": null,
      "outputs": [
        {
          "output_type": "stream",
          "text": [
            "Index(['v1', 'v2', 'v3'], dtype='object')\n"
          ],
          "name": "stdout"
        }
      ]
    },
    {
      "cell_type": "markdown",
      "metadata": {
        "id": "HWBhP_6CcI0_"
      },
      "source": [
        "Выведем колонки "
      ]
    },
    {
      "cell_type": "code",
      "metadata": {
        "id": "4Zxsto5EcI0_",
        "outputId": "f40b0d67-b1ba-4489-9a84-e66e0d08cd6c"
      },
      "source": [
        "print(df1.columns)"
      ],
      "execution_count": null,
      "outputs": [
        {
          "output_type": "stream",
          "text": [
            "Index(['price', 'count'], dtype='object')\n"
          ],
          "name": "stdout"
        }
      ]
    },
    {
      "cell_type": "markdown",
      "metadata": {
        "id": "spoPUXmbcI1A"
      },
      "source": [
        "Создание на основе словаря из массивов"
      ]
    },
    {
      "cell_type": "code",
      "metadata": {
        "id": "A8gx6bfhcI1A",
        "outputId": "943c537d-a93e-4732-8de2-afd466c81f9c"
      },
      "source": [
        "d2 = {\"price\":np.array([1, 2, 3]),\n",
        "       \"count\": np.array([10, 12, 7])}\n",
        "df2 = pd.DataFrame(d2, index = ['v1', 'v2', 'v3'])\n",
        "print (df2)"
      ],
      "execution_count": null,
      "outputs": [
        {
          "output_type": "stream",
          "text": [
            "    price  count\n",
            "v1      1     10\n",
            "v2      2     12\n",
            "v3      3      7\n"
          ],
          "name": "stdout"
        }
      ]
    },
    {
      "cell_type": "markdown",
      "metadata": {
        "id": "4zcV6HWIcI1A"
      },
      "source": [
        "Создание из двумерного массива"
      ]
    },
    {
      "cell_type": "code",
      "metadata": {
        "id": "BXl0_U46cI1A",
        "outputId": "b93d523e-ceb8-485d-dcd1-d99c6cf421da"
      },
      "source": [
        "nda1 = np.array([[1, 2, 3], [10, 20, 30]])\n",
        "df3 = pd.DataFrame(nda1, columns = ['a','b','c'], index = ['a1','a2'])\n",
        "print (df3)"
      ],
      "execution_count": null,
      "outputs": [
        {
          "output_type": "stream",
          "text": [
            "     a   b   c\n",
            "a1   1   2   3\n",
            "a2  10  20  30\n"
          ],
          "name": "stdout"
        }
      ]
    },
    {
      "cell_type": "markdown",
      "metadata": {
        "id": "JjkZcRDKcI1A"
      },
      "source": [
        "#### Работа с DataFrame"
      ]
    },
    {
      "cell_type": "markdown",
      "metadata": {
        "id": "wuLP1Ht1cI1B"
      },
      "source": [
        "Выбор столбца"
      ]
    },
    {
      "cell_type": "code",
      "metadata": {
        "id": "eRkcYVSacI1E",
        "outputId": "27171867-3c7c-40cb-e9bd-d71c4e7f7f1a"
      },
      "source": [
        "print (df3['a'])"
      ],
      "execution_count": null,
      "outputs": [
        {
          "output_type": "stream",
          "text": [
            "a1     1\n",
            "a2    10\n",
            "Name: a, dtype: int32\n"
          ],
          "name": "stdout"
        }
      ]
    },
    {
      "cell_type": "markdown",
      "metadata": {
        "id": "QIPkIpticI1F"
      },
      "source": [
        "Ввбор строки по индексу"
      ]
    },
    {
      "cell_type": "code",
      "metadata": {
        "id": "njOjpT67cI1F",
        "outputId": "5539410f-600a-4c70-d2e1-257eb6163d26"
      },
      "source": [
        "print (df3.loc['a1'])"
      ],
      "execution_count": null,
      "outputs": [
        {
          "output_type": "stream",
          "text": [
            "a    1\n",
            "b    2\n",
            "c    3\n",
            "Name: a1, dtype: int32\n"
          ],
          "name": "stdout"
        }
      ]
    },
    {
      "cell_type": "markdown",
      "metadata": {
        "id": "eEOIZa8FcI1F"
      },
      "source": [
        "Выбор строки по номеру"
      ]
    },
    {
      "cell_type": "code",
      "metadata": {
        "id": "NSbOcwmRcI1F",
        "outputId": "815dd374-e032-4ea9-c5b2-2b230887a5d4"
      },
      "source": [
        "print (df3.iloc[1])"
      ],
      "execution_count": null,
      "outputs": [
        {
          "output_type": "stream",
          "text": [
            "a    10\n",
            "b    20\n",
            "c    30\n",
            "Name: a2, dtype: int32\n"
          ],
          "name": "stdout"
        }
      ]
    },
    {
      "cell_type": "markdown",
      "metadata": {
        "id": "G2a-cKYIcI1F"
      },
      "source": [
        "Добавление нового столбца"
      ]
    },
    {
      "cell_type": "code",
      "metadata": {
        "id": "TOPS8nH4cI1G",
        "outputId": "b57c2826-5081-4125-8a26-a5cf53354b13"
      },
      "source": [
        "df3['d'] =[5,6]\n",
        "print (df3)"
      ],
      "execution_count": null,
      "outputs": [
        {
          "output_type": "stream",
          "text": [
            "     a   b   c  d\n",
            "a1   1   2   3  5\n",
            "a2  10  20  30  6\n"
          ],
          "name": "stdout"
        }
      ]
    },
    {
      "cell_type": "markdown",
      "metadata": {
        "id": "8sjMUs8rcI1G"
      },
      "source": [
        "Выбор нескольких стоблцов"
      ]
    },
    {
      "cell_type": "code",
      "metadata": {
        "id": "8ULxuOprcI1G",
        "outputId": "91a385f1-df88-48c5-8db4-c3cc4e1fc860"
      },
      "source": [
        "df_slice = df3[['a','b']]\n",
        "print (df_slice)"
      ],
      "execution_count": null,
      "outputs": [
        {
          "output_type": "stream",
          "text": [
            "     a   b\n",
            "a1   1   2\n",
            "a2  10  20\n"
          ],
          "name": "stdout"
        }
      ]
    },
    {
      "cell_type": "markdown",
      "metadata": {
        "id": "TSPY9uxDcI1G"
      },
      "source": [
        "Удаление столбца"
      ]
    },
    {
      "cell_type": "code",
      "metadata": {
        "id": "DhY-nzn4cI1H",
        "outputId": "79dc54e7-b423-4265-97c4-993b7497b690"
      },
      "source": [
        "df_new = df3.drop(['a'], axis = 1)\n",
        "print (df_new)"
      ],
      "execution_count": null,
      "outputs": [
        {
          "output_type": "stream",
          "text": [
            "     b   c  d\n",
            "a1   2   3  5\n",
            "a2  20  30  6\n"
          ],
          "name": "stdout"
        }
      ]
    },
    {
      "cell_type": "markdown",
      "metadata": {
        "id": "9RPx0dXWcI1H"
      },
      "source": [
        "Здесь первым аргументом идет список удаляемых элементов, потом указывается что удаляется 1- столбец, 0- строка. Если не указывать значение аргумента inplace, то в исходном DataFrame ничего не измениться\n"
      ]
    },
    {
      "cell_type": "code",
      "metadata": {
        "id": "UqGW_UXrcI1H",
        "outputId": "30ee58c0-7579-4933-cf5b-e54b7ec41f11"
      },
      "source": [
        "print(df3)"
      ],
      "execution_count": null,
      "outputs": [
        {
          "output_type": "stream",
          "text": [
            "     a   b   c  d\n",
            "a1   1   2   3  5\n",
            "a2  10  20  30  6\n"
          ],
          "name": "stdout"
        }
      ]
    },
    {
      "cell_type": "markdown",
      "metadata": {
        "id": "bwEGQUbacI1H"
      },
      "source": [
        "Укажем inplace = True"
      ]
    },
    {
      "cell_type": "code",
      "metadata": {
        "id": "1kUKEC6CcI1H",
        "outputId": "c1699472-64f1-4658-c804-581eff9b52e8"
      },
      "source": [
        "df3.drop(['a'], axis = 1, inplace = True)\n",
        "print (df3)"
      ],
      "execution_count": null,
      "outputs": [
        {
          "output_type": "stream",
          "text": [
            "     b   c  d\n",
            "a1   2   3  5\n",
            "a2  20  30  6\n"
          ],
          "name": "stdout"
        }
      ]
    },
    {
      "cell_type": "markdown",
      "metadata": {
        "id": "C46m-cGBcI1I"
      },
      "source": [
        "## Задание 1"
      ]
    },
    {
      "cell_type": "markdown",
      "metadata": {
        "id": "F-RhvLRxcI1I"
      },
      "source": [
        "Считайте данные с помощью load_boston()"
      ]
    },
    {
      "cell_type": "code",
      "metadata": {
        "id": "TnfjOCWQcI1I"
      },
      "source": [
        "# Ваш код здесь\n",
        "boston = load_boston()"
      ],
      "execution_count": 5,
      "outputs": []
    },
    {
      "cell_type": "markdown",
      "metadata": {
        "id": "Mji2S78BcI1I"
      },
      "source": [
        "В поле data содержаться параметры модели, в поле feature_names содержаться имена полей данных, в поле target содержится целевая переменная. \n",
        "Рассмотрите тип скачанных данных и создайте DatаFrame с именем df из данных load_boston"
      ]
    },
    {
      "cell_type": "code",
      "metadata": {
        "colab": {
          "base_uri": "https://localhost:8080/"
        },
        "id": "KROmI1KScI1I",
        "outputId": "466fd4f6-37d3-4e34-bb1e-8c5c86350d56"
      },
      "source": [
        "# Ваш код здесь\n",
        "print(boston['DESCR'])\n",
        "df=pd.DataFrame(boston['data'], columns=boston['feature_names'])\n",
        "print(df.columns)"
      ],
      "execution_count": 6,
      "outputs": [
        {
          "output_type": "stream",
          "text": [
            ".. _boston_dataset:\n",
            "\n",
            "Boston house prices dataset\n",
            "---------------------------\n",
            "\n",
            "**Data Set Characteristics:**  \n",
            "\n",
            "    :Number of Instances: 506 \n",
            "\n",
            "    :Number of Attributes: 13 numeric/categorical predictive. Median Value (attribute 14) is usually the target.\n",
            "\n",
            "    :Attribute Information (in order):\n",
            "        - CRIM     per capita crime rate by town\n",
            "        - ZN       proportion of residential land zoned for lots over 25,000 sq.ft.\n",
            "        - INDUS    proportion of non-retail business acres per town\n",
            "        - CHAS     Charles River dummy variable (= 1 if tract bounds river; 0 otherwise)\n",
            "        - NOX      nitric oxides concentration (parts per 10 million)\n",
            "        - RM       average number of rooms per dwelling\n",
            "        - AGE      proportion of owner-occupied units built prior to 1940\n",
            "        - DIS      weighted distances to five Boston employment centres\n",
            "        - RAD      index of accessibility to radial highways\n",
            "        - TAX      full-value property-tax rate per $10,000\n",
            "        - PTRATIO  pupil-teacher ratio by town\n",
            "        - B        1000(Bk - 0.63)^2 where Bk is the proportion of blacks by town\n",
            "        - LSTAT    % lower status of the population\n",
            "        - MEDV     Median value of owner-occupied homes in $1000's\n",
            "\n",
            "    :Missing Attribute Values: None\n",
            "\n",
            "    :Creator: Harrison, D. and Rubinfeld, D.L.\n",
            "\n",
            "This is a copy of UCI ML housing dataset.\n",
            "https://archive.ics.uci.edu/ml/machine-learning-databases/housing/\n",
            "\n",
            "\n",
            "This dataset was taken from the StatLib library which is maintained at Carnegie Mellon University.\n",
            "\n",
            "The Boston house-price data of Harrison, D. and Rubinfeld, D.L. 'Hedonic\n",
            "prices and the demand for clean air', J. Environ. Economics & Management,\n",
            "vol.5, 81-102, 1978.   Used in Belsley, Kuh & Welsch, 'Regression diagnostics\n",
            "...', Wiley, 1980.   N.B. Various transformations are used in the table on\n",
            "pages 244-261 of the latter.\n",
            "\n",
            "The Boston house-price data has been used in many machine learning papers that address regression\n",
            "problems.   \n",
            "     \n",
            ".. topic:: References\n",
            "\n",
            "   - Belsley, Kuh & Welsch, 'Regression diagnostics: Identifying Influential Data and Sources of Collinearity', Wiley, 1980. 244-261.\n",
            "   - Quinlan,R. (1993). Combining Instance-Based and Model-Based Learning. In Proceedings on the Tenth International Conference of Machine Learning, 236-243, University of Massachusetts, Amherst. Morgan Kaufmann.\n",
            "\n",
            "Index(['CRIM', 'ZN', 'INDUS', 'CHAS', 'NOX', 'RM', 'AGE', 'DIS', 'RAD', 'TAX',\n",
            "       'PTRATIO', 'B', 'LSTAT'],\n",
            "      dtype='object')\n"
          ],
          "name": "stdout"
        }
      ]
    },
    {
      "cell_type": "markdown",
      "metadata": {
        "id": "AiS_IOxccI1I"
      },
      "source": [
        "Выведите первые 10 строк полученного DataFrame с помощью функции head()"
      ]
    },
    {
      "cell_type": "code",
      "metadata": {
        "colab": {
          "base_uri": "https://localhost:8080/",
          "height": 343
        },
        "id": "jcLrVTE9cI1J",
        "outputId": "a57d5ee5-1730-490d-e01f-38fb33ce247d"
      },
      "source": [
        "# Ваш код здесь\n",
        "df.head(10)"
      ],
      "execution_count": 7,
      "outputs": [
        {
          "output_type": "execute_result",
          "data": {
            "text/html": [
              "<div>\n",
              "<style scoped>\n",
              "    .dataframe tbody tr th:only-of-type {\n",
              "        vertical-align: middle;\n",
              "    }\n",
              "\n",
              "    .dataframe tbody tr th {\n",
              "        vertical-align: top;\n",
              "    }\n",
              "\n",
              "    .dataframe thead th {\n",
              "        text-align: right;\n",
              "    }\n",
              "</style>\n",
              "<table border=\"1\" class=\"dataframe\">\n",
              "  <thead>\n",
              "    <tr style=\"text-align: right;\">\n",
              "      <th></th>\n",
              "      <th>CRIM</th>\n",
              "      <th>ZN</th>\n",
              "      <th>INDUS</th>\n",
              "      <th>CHAS</th>\n",
              "      <th>NOX</th>\n",
              "      <th>RM</th>\n",
              "      <th>AGE</th>\n",
              "      <th>DIS</th>\n",
              "      <th>RAD</th>\n",
              "      <th>TAX</th>\n",
              "      <th>PTRATIO</th>\n",
              "      <th>B</th>\n",
              "      <th>LSTAT</th>\n",
              "    </tr>\n",
              "  </thead>\n",
              "  <tbody>\n",
              "    <tr>\n",
              "      <th>0</th>\n",
              "      <td>0.00632</td>\n",
              "      <td>18.0</td>\n",
              "      <td>2.31</td>\n",
              "      <td>0.0</td>\n",
              "      <td>0.538</td>\n",
              "      <td>6.575</td>\n",
              "      <td>65.2</td>\n",
              "      <td>4.0900</td>\n",
              "      <td>1.0</td>\n",
              "      <td>296.0</td>\n",
              "      <td>15.3</td>\n",
              "      <td>396.90</td>\n",
              "      <td>4.98</td>\n",
              "    </tr>\n",
              "    <tr>\n",
              "      <th>1</th>\n",
              "      <td>0.02731</td>\n",
              "      <td>0.0</td>\n",
              "      <td>7.07</td>\n",
              "      <td>0.0</td>\n",
              "      <td>0.469</td>\n",
              "      <td>6.421</td>\n",
              "      <td>78.9</td>\n",
              "      <td>4.9671</td>\n",
              "      <td>2.0</td>\n",
              "      <td>242.0</td>\n",
              "      <td>17.8</td>\n",
              "      <td>396.90</td>\n",
              "      <td>9.14</td>\n",
              "    </tr>\n",
              "    <tr>\n",
              "      <th>2</th>\n",
              "      <td>0.02729</td>\n",
              "      <td>0.0</td>\n",
              "      <td>7.07</td>\n",
              "      <td>0.0</td>\n",
              "      <td>0.469</td>\n",
              "      <td>7.185</td>\n",
              "      <td>61.1</td>\n",
              "      <td>4.9671</td>\n",
              "      <td>2.0</td>\n",
              "      <td>242.0</td>\n",
              "      <td>17.8</td>\n",
              "      <td>392.83</td>\n",
              "      <td>4.03</td>\n",
              "    </tr>\n",
              "    <tr>\n",
              "      <th>3</th>\n",
              "      <td>0.03237</td>\n",
              "      <td>0.0</td>\n",
              "      <td>2.18</td>\n",
              "      <td>0.0</td>\n",
              "      <td>0.458</td>\n",
              "      <td>6.998</td>\n",
              "      <td>45.8</td>\n",
              "      <td>6.0622</td>\n",
              "      <td>3.0</td>\n",
              "      <td>222.0</td>\n",
              "      <td>18.7</td>\n",
              "      <td>394.63</td>\n",
              "      <td>2.94</td>\n",
              "    </tr>\n",
              "    <tr>\n",
              "      <th>4</th>\n",
              "      <td>0.06905</td>\n",
              "      <td>0.0</td>\n",
              "      <td>2.18</td>\n",
              "      <td>0.0</td>\n",
              "      <td>0.458</td>\n",
              "      <td>7.147</td>\n",
              "      <td>54.2</td>\n",
              "      <td>6.0622</td>\n",
              "      <td>3.0</td>\n",
              "      <td>222.0</td>\n",
              "      <td>18.7</td>\n",
              "      <td>396.90</td>\n",
              "      <td>5.33</td>\n",
              "    </tr>\n",
              "    <tr>\n",
              "      <th>5</th>\n",
              "      <td>0.02985</td>\n",
              "      <td>0.0</td>\n",
              "      <td>2.18</td>\n",
              "      <td>0.0</td>\n",
              "      <td>0.458</td>\n",
              "      <td>6.430</td>\n",
              "      <td>58.7</td>\n",
              "      <td>6.0622</td>\n",
              "      <td>3.0</td>\n",
              "      <td>222.0</td>\n",
              "      <td>18.7</td>\n",
              "      <td>394.12</td>\n",
              "      <td>5.21</td>\n",
              "    </tr>\n",
              "    <tr>\n",
              "      <th>6</th>\n",
              "      <td>0.08829</td>\n",
              "      <td>12.5</td>\n",
              "      <td>7.87</td>\n",
              "      <td>0.0</td>\n",
              "      <td>0.524</td>\n",
              "      <td>6.012</td>\n",
              "      <td>66.6</td>\n",
              "      <td>5.5605</td>\n",
              "      <td>5.0</td>\n",
              "      <td>311.0</td>\n",
              "      <td>15.2</td>\n",
              "      <td>395.60</td>\n",
              "      <td>12.43</td>\n",
              "    </tr>\n",
              "    <tr>\n",
              "      <th>7</th>\n",
              "      <td>0.14455</td>\n",
              "      <td>12.5</td>\n",
              "      <td>7.87</td>\n",
              "      <td>0.0</td>\n",
              "      <td>0.524</td>\n",
              "      <td>6.172</td>\n",
              "      <td>96.1</td>\n",
              "      <td>5.9505</td>\n",
              "      <td>5.0</td>\n",
              "      <td>311.0</td>\n",
              "      <td>15.2</td>\n",
              "      <td>396.90</td>\n",
              "      <td>19.15</td>\n",
              "    </tr>\n",
              "    <tr>\n",
              "      <th>8</th>\n",
              "      <td>0.21124</td>\n",
              "      <td>12.5</td>\n",
              "      <td>7.87</td>\n",
              "      <td>0.0</td>\n",
              "      <td>0.524</td>\n",
              "      <td>5.631</td>\n",
              "      <td>100.0</td>\n",
              "      <td>6.0821</td>\n",
              "      <td>5.0</td>\n",
              "      <td>311.0</td>\n",
              "      <td>15.2</td>\n",
              "      <td>386.63</td>\n",
              "      <td>29.93</td>\n",
              "    </tr>\n",
              "    <tr>\n",
              "      <th>9</th>\n",
              "      <td>0.17004</td>\n",
              "      <td>12.5</td>\n",
              "      <td>7.87</td>\n",
              "      <td>0.0</td>\n",
              "      <td>0.524</td>\n",
              "      <td>6.004</td>\n",
              "      <td>85.9</td>\n",
              "      <td>6.5921</td>\n",
              "      <td>5.0</td>\n",
              "      <td>311.0</td>\n",
              "      <td>15.2</td>\n",
              "      <td>386.71</td>\n",
              "      <td>17.10</td>\n",
              "    </tr>\n",
              "  </tbody>\n",
              "</table>\n",
              "</div>"
            ],
            "text/plain": [
              "      CRIM    ZN  INDUS  CHAS    NOX  ...  RAD    TAX  PTRATIO       B  LSTAT\n",
              "0  0.00632  18.0   2.31   0.0  0.538  ...  1.0  296.0     15.3  396.90   4.98\n",
              "1  0.02731   0.0   7.07   0.0  0.469  ...  2.0  242.0     17.8  396.90   9.14\n",
              "2  0.02729   0.0   7.07   0.0  0.469  ...  2.0  242.0     17.8  392.83   4.03\n",
              "3  0.03237   0.0   2.18   0.0  0.458  ...  3.0  222.0     18.7  394.63   2.94\n",
              "4  0.06905   0.0   2.18   0.0  0.458  ...  3.0  222.0     18.7  396.90   5.33\n",
              "5  0.02985   0.0   2.18   0.0  0.458  ...  3.0  222.0     18.7  394.12   5.21\n",
              "6  0.08829  12.5   7.87   0.0  0.524  ...  5.0  311.0     15.2  395.60  12.43\n",
              "7  0.14455  12.5   7.87   0.0  0.524  ...  5.0  311.0     15.2  396.90  19.15\n",
              "8  0.21124  12.5   7.87   0.0  0.524  ...  5.0  311.0     15.2  386.63  29.93\n",
              "9  0.17004  12.5   7.87   0.0  0.524  ...  5.0  311.0     15.2  386.71  17.10\n",
              "\n",
              "[10 rows x 13 columns]"
            ]
          },
          "metadata": {
            "tags": []
          },
          "execution_count": 7
        }
      ]
    },
    {
      "cell_type": "markdown",
      "metadata": {
        "id": "1FAP1G__cI1J"
      },
      "source": [
        "Выделите из полученного DataFrame параметры модели в переменную X, а целевую переменную в Y"
      ]
    },
    {
      "cell_type": "code",
      "metadata": {
        "id": "pFrb4hMBcI1J"
      },
      "source": [
        "# Ваш код здесь\n",
        "X=pd.DataFrame(boston.data, columns= boston.feature_names)\n",
        "Y=boston['target']"
      ],
      "execution_count": 12,
      "outputs": []
    },
    {
      "cell_type": "markdown",
      "metadata": {
        "id": "X15F8D40cI1J"
      },
      "source": [
        "Выделите первые 300 записей выборки в обучающую часть, а оставшиеся в тестовую"
      ]
    },
    {
      "cell_type": "code",
      "metadata": {
        "id": "GrG7SvdpcI1K"
      },
      "source": [
        "# Ваш код здесь\n",
        "# разбиваем массив признаков на обучающую и тестовую выборки\n",
        "X_train, X_test= X[:300], X[len(X)-300:]\n",
        "# также разбиваем массив с зависимой переменной\n",
        "Y_train, Y_test = Y[:300], Y[len(Y)-300:]\n"
      ],
      "execution_count": 13,
      "outputs": []
    },
    {
      "cell_type": "markdown",
      "metadata": {
        "id": "P5TRdDBdcI1K"
      },
      "source": [
        "### Регрессия"
      ]
    },
    {
      "cell_type": "markdown",
      "metadata": {
        "id": "tafD__HDcI1K"
      },
      "source": [
        "Принципы и задачи регрессии из ложены в лекции. \n",
        "Построение модели регрессии заключается в вычислении весов регрессии. \n",
        "Для построения модели используется классы регрессоров из библиотеки SKLearn\n",
        "В этой работе мы будем использовать линейный регрессор, подробная информация о нем представлена здесь https://scikit-learn.org/stable/modules/generated/sklearn.linear_model.LinearRegression.html\n",
        "\n",
        "\n"
      ]
    },
    {
      "cell_type": "markdown",
      "metadata": {
        "id": "FuE6IvnPcI1K"
      },
      "source": [
        "**Алгоритм работы с регрессорами:**\n",
        "* создаем экземпляр класса регрессора\n",
        "* обучаем его на обучающей части выборки с помощью метода fit()\n",
        "* получаем веса модели с помощью метода coef_\n",
        "* оцениваем качество модели с помощью бибилиотеки metrics\n"
      ]
    },
    {
      "cell_type": "markdown",
      "metadata": {
        "id": "FNHa3w94cI1K"
      },
      "source": [
        "## Задание 2"
      ]
    },
    {
      "cell_type": "markdown",
      "metadata": {
        "id": "6GLiJ6fdcI1K"
      },
      "source": [
        "Создайте экземпляр класса LinearRegression() и обучите его на обучающей части выборки."
      ]
    },
    {
      "cell_type": "code",
      "metadata": {
        "id": "T877x27XcI1L"
      },
      "source": [
        "# Ваш код здесь\n",
        "lm=LinearRegression().fit(X_train, Y_train)"
      ],
      "execution_count": 14,
      "outputs": []
    },
    {
      "cell_type": "markdown",
      "metadata": {
        "id": "dp2PAIOBcI1L"
      },
      "source": [
        "Получите веса модели и выведите их на печать"
      ]
    },
    {
      "cell_type": "code",
      "metadata": {
        "id": "-Uvd4mSRcI1L",
        "outputId": "31d005bd-79e2-4270-8d1f-2994d88b0fa2"
      },
      "source": [
        "# Ваш код здесь\n",
        "coef=pd.DataFrame(lm.coef_)\n",
        "print(coef)"
      ],
      "execution_count": null,
      "outputs": [
        {
          "output_type": "stream",
          "text": [
            "           0\n",
            "0   1.201254\n",
            "1   0.014842\n",
            "2   0.023552\n",
            "3   0.602065\n",
            "4  -8.827642\n",
            "5   9.130622\n",
            "6  -0.047359\n",
            "7  -1.013286\n",
            "8   0.167866\n",
            "9  -0.014567\n",
            "10 -0.641834\n",
            "11  0.016779\n",
            "12 -0.109764\n"
          ],
          "name": "stdout"
        }
      ]
    },
    {
      "cell_type": "markdown",
      "metadata": {
        "id": "xATv4haXcI1L"
      },
      "source": [
        "Предположите переобучена ли модель"
      ]
    },
    {
      "cell_type": "code",
      "metadata": {
        "colab": {
          "base_uri": "https://localhost:8080/"
        },
        "id": "KorryS8XcI1L",
        "outputId": "74be1c8e-338c-44ac-ec1b-945ed6ca1631"
      },
      "source": [
        "# Ваш ответ здесь\r\n",
        "lm.predict(X_test)"
      ],
      "execution_count": 19,
      "outputs": [
        {
          "output_type": "execute_result",
          "data": {
            "text/plain": [
              "array([ 24.78989027,  18.03259149,  22.05931494,  13.61360316,\n",
              "        19.87383206,  14.7165912 ,  20.66686386,  26.52427939,\n",
              "        16.50600676,  24.47414542,  23.08532883,  28.12492517,\n",
              "        21.75906491,  25.96389693,  31.88841052,  23.21050649,\n",
              "        31.59940091,  28.82176716,  44.21796638,  48.33555948,\n",
              "        41.67074382,  33.40083077,  41.21528272,  30.89031107,\n",
              "        22.37966995,  35.60529707,  44.63002534,  43.56246761,\n",
              "        29.83679553,  23.45388643,  28.39085236,  35.20344517,\n",
              "        28.16048283,  28.15396863,  29.79992566,  21.90165987,\n",
              "        23.93080374,  27.11067268,  12.87861754,  12.89383581,\n",
              "        20.27319026,  18.73625928,  22.29035303,  27.06497401,\n",
              "        25.65891004,  25.42555613,  28.73325122,  41.07026393,\n",
              "        21.30676623,  19.52838338,  38.46966471,  51.17292358,\n",
              "        37.60139866,  33.23503907,  36.8697219 ,  39.55035572,\n",
              "        47.42296402,  37.60493223,  36.7105406 ,  23.0601838 ,\n",
              "        34.56811636,  48.0248401 ,  41.2203841 ,  22.23228632,\n",
              "        21.72301881,  27.12842515,  28.14486371,  39.33114505,\n",
              "        33.03106463,  32.75240299,  35.85003818,  32.9860823 ,\n",
              "        29.50960327,  35.09302457,  41.91409334,  34.86337482,\n",
              "        41.03629559,  46.09332722,  33.77187173,  26.75098557,\n",
              "        20.9244523 ,  24.73192672,  24.98068202,  27.70273105,\n",
              "        32.53081887,  35.18819657,  30.48574219,  25.57598499,\n",
              "        23.16612394,  29.85133269,  27.44933003,  19.06862603,\n",
              "        26.04709758,  32.95075406,  29.79108248,  28.80787418,\n",
              "        28.9385959 ,  33.95980998,  36.06473243,  30.03397333,\n",
              "        37.34956465,  31.97991057,  27.53105913,  21.19042774,\n",
              "        16.18684563,  25.13904357,  20.98289376,  23.50677739,\n",
              "        25.70499407,  17.57145217,  18.3970349 ,  17.98149659,\n",
              "        24.951302  ,  22.26255121,  25.16719139,  24.66896958,\n",
              "        21.74805928,  16.93098947,  25.78838644,  26.31423203,\n",
              "        24.62584001,  21.03017255,  19.65141755,  24.47309949,\n",
              "        21.03958307,  18.62206487,  21.78419616,  23.08462718,\n",
              "        22.87209402,  21.03847382,  19.50701896,  18.6024124 ,\n",
              "        22.21992535,  21.06471166,  20.34633584,  33.02121376,\n",
              "        23.04800162,  26.94770651,  29.30851627,  16.95826468,\n",
              "        15.16802008,  24.68573236,  27.31693513,  25.82438955,\n",
              "        21.40408183,  21.07312976,  15.65204281,  25.97952346,\n",
              "        12.40687692,  15.24836432,  28.34657182,  24.46977391,\n",
              "        24.05158988,  22.28941428,  25.17549549,  21.96148768,\n",
              "        14.5515092 ,  19.42233148,  47.5050814 ,   0.40978875,\n",
              "        10.46842116,   9.80898775,  14.93849732,  32.18064909,\n",
              "        36.75303085,  30.8417175 ,  27.1417048 ,  18.5476307 ,\n",
              "        20.09915072,  53.00714933,  40.29839513,  35.57231524,\n",
              "        48.22496693,  39.82307145, 132.95341645,  40.40748396,\n",
              "        22.52419975,  20.88571864,  22.8750237 ,  28.77360152,\n",
              "        32.32094608,  33.37827605,  21.5348619 ,  20.15177818,\n",
              "        21.92998931,  23.00291768,  20.55259263,  28.99558759,\n",
              "        31.64582376,  31.09653058,  27.09444006,  23.03121729,\n",
              "        56.18722136,  25.79527228,  45.39822648,  36.38616352,\n",
              "        30.95522696,  40.12157289,  60.50913168,  94.50733439,\n",
              "        23.95952291,  27.33457912,  20.57029327,  38.64312539,\n",
              "        70.87690751,  33.75481066,  19.3719257 ,  40.59919411,\n",
              "        50.49097077,  34.53894621,  29.7204627 ,  36.30855809,\n",
              "        97.5692079 ,  32.42348771,  31.98574511,  23.55765112,\n",
              "        27.22964616,  19.56901812,  18.35006429,  27.27981723,\n",
              "        26.08072193,  58.37155595,  22.39127819,  24.72029322,\n",
              "        25.70211771,  31.3317386 ,  25.18947637,  21.9548242 ,\n",
              "        29.76351673,  29.44546134,  31.20443829,  27.83708383,\n",
              "        24.89243679,  23.37454302,  40.34139565,  30.6657438 ,\n",
              "        24.49721818,  31.71990667,  26.61440657,  26.23687774,\n",
              "        25.02527752,  29.76632969,  28.47760201,  26.84175885,\n",
              "        24.13800865,  27.37315271,  24.52321243,  37.78649662,\n",
              "        27.02634668,  20.6803365 ,  14.57911712,  18.725208  ,\n",
              "        25.94090249,  25.0831125 ,  25.64528732,  23.91974551,\n",
              "        27.18936669,  27.93697574,  28.82402547,  18.66006308,\n",
              "        14.05264982,  20.52576801,  34.97457749,  31.63135686,\n",
              "        23.62081262,  24.20276074,  25.86653688,  32.52118424,\n",
              "        20.40691424,  23.76257261,  26.85209156,  26.83726245,\n",
              "        30.34677337,  36.90952031,  27.62868036,  32.00358955,\n",
              "        34.8086243 ,  20.07630874,  19.70367834,  25.14430054,\n",
              "        24.47622668,  23.51077365,   8.68220625,   6.65209622,\n",
              "         2.6395936 ,  13.03673055,  14.1550307 ,  18.33989587,\n",
              "        20.83361497,  18.10574616,  13.26551   ,  17.7151051 ,\n",
              "        20.6048966 ,  15.78522312,  19.73321195,  25.54082888,\n",
              "        21.18204475,  28.83841101,  26.94137539,  20.0800139 ])"
            ]
          },
          "metadata": {
            "tags": []
          },
          "execution_count": 19
        }
      ]
    },
    {
      "cell_type": "markdown",
      "metadata": {
        "id": "inWbP-08cI1M"
      },
      "source": [
        "Получите значения цены на недвижимость, используя тестовую часть выборки с помощью метода predict(). Этот метод в качестве едиственного аргумента принимает параметры модели, на которых делается расчет значений модели."
      ]
    },
    {
      "cell_type": "code",
      "metadata": {
        "colab": {
          "base_uri": "https://localhost:8080/"
        },
        "id": "fuR8aPq1cI1M",
        "outputId": "55fd2afc-9bd1-4425-aaf4-9b91b6d628ba"
      },
      "source": [
        "# Ваш код здесь\n",
        "predict=lm.predict(X_test)\n",
        "print(predict)"
      ],
      "execution_count": 20,
      "outputs": [
        {
          "output_type": "stream",
          "text": [
            "[ 24.78989027  18.03259149  22.05931494  13.61360316  19.87383206\n",
            "  14.7165912   20.66686386  26.52427939  16.50600676  24.47414542\n",
            "  23.08532883  28.12492517  21.75906491  25.96389693  31.88841052\n",
            "  23.21050649  31.59940091  28.82176716  44.21796638  48.33555948\n",
            "  41.67074382  33.40083077  41.21528272  30.89031107  22.37966995\n",
            "  35.60529707  44.63002534  43.56246761  29.83679553  23.45388643\n",
            "  28.39085236  35.20344517  28.16048283  28.15396863  29.79992566\n",
            "  21.90165987  23.93080374  27.11067268  12.87861754  12.89383581\n",
            "  20.27319026  18.73625928  22.29035303  27.06497401  25.65891004\n",
            "  25.42555613  28.73325122  41.07026393  21.30676623  19.52838338\n",
            "  38.46966471  51.17292358  37.60139866  33.23503907  36.8697219\n",
            "  39.55035572  47.42296402  37.60493223  36.7105406   23.0601838\n",
            "  34.56811636  48.0248401   41.2203841   22.23228632  21.72301881\n",
            "  27.12842515  28.14486371  39.33114505  33.03106463  32.75240299\n",
            "  35.85003818  32.9860823   29.50960327  35.09302457  41.91409334\n",
            "  34.86337482  41.03629559  46.09332722  33.77187173  26.75098557\n",
            "  20.9244523   24.73192672  24.98068202  27.70273105  32.53081887\n",
            "  35.18819657  30.48574219  25.57598499  23.16612394  29.85133269\n",
            "  27.44933003  19.06862603  26.04709758  32.95075406  29.79108248\n",
            "  28.80787418  28.9385959   33.95980998  36.06473243  30.03397333\n",
            "  37.34956465  31.97991057  27.53105913  21.19042774  16.18684563\n",
            "  25.13904357  20.98289376  23.50677739  25.70499407  17.57145217\n",
            "  18.3970349   17.98149659  24.951302    22.26255121  25.16719139\n",
            "  24.66896958  21.74805928  16.93098947  25.78838644  26.31423203\n",
            "  24.62584001  21.03017255  19.65141755  24.47309949  21.03958307\n",
            "  18.62206487  21.78419616  23.08462718  22.87209402  21.03847382\n",
            "  19.50701896  18.6024124   22.21992535  21.06471166  20.34633584\n",
            "  33.02121376  23.04800162  26.94770651  29.30851627  16.95826468\n",
            "  15.16802008  24.68573236  27.31693513  25.82438955  21.40408183\n",
            "  21.07312976  15.65204281  25.97952346  12.40687692  15.24836432\n",
            "  28.34657182  24.46977391  24.05158988  22.28941428  25.17549549\n",
            "  21.96148768  14.5515092   19.42233148  47.5050814    0.40978875\n",
            "  10.46842116   9.80898775  14.93849732  32.18064909  36.75303085\n",
            "  30.8417175   27.1417048   18.5476307   20.09915072  53.00714933\n",
            "  40.29839513  35.57231524  48.22496693  39.82307145 132.95341645\n",
            "  40.40748396  22.52419975  20.88571864  22.8750237   28.77360152\n",
            "  32.32094608  33.37827605  21.5348619   20.15177818  21.92998931\n",
            "  23.00291768  20.55259263  28.99558759  31.64582376  31.09653058\n",
            "  27.09444006  23.03121729  56.18722136  25.79527228  45.39822648\n",
            "  36.38616352  30.95522696  40.12157289  60.50913168  94.50733439\n",
            "  23.95952291  27.33457912  20.57029327  38.64312539  70.87690751\n",
            "  33.75481066  19.3719257   40.59919411  50.49097077  34.53894621\n",
            "  29.7204627   36.30855809  97.5692079   32.42348771  31.98574511\n",
            "  23.55765112  27.22964616  19.56901812  18.35006429  27.27981723\n",
            "  26.08072193  58.37155595  22.39127819  24.72029322  25.70211771\n",
            "  31.3317386   25.18947637  21.9548242   29.76351673  29.44546134\n",
            "  31.20443829  27.83708383  24.89243679  23.37454302  40.34139565\n",
            "  30.6657438   24.49721818  31.71990667  26.61440657  26.23687774\n",
            "  25.02527752  29.76632969  28.47760201  26.84175885  24.13800865\n",
            "  27.37315271  24.52321243  37.78649662  27.02634668  20.6803365\n",
            "  14.57911712  18.725208    25.94090249  25.0831125   25.64528732\n",
            "  23.91974551  27.18936669  27.93697574  28.82402547  18.66006308\n",
            "  14.05264982  20.52576801  34.97457749  31.63135686  23.62081262\n",
            "  24.20276074  25.86653688  32.52118424  20.40691424  23.76257261\n",
            "  26.85209156  26.83726245  30.34677337  36.90952031  27.62868036\n",
            "  32.00358955  34.8086243   20.07630874  19.70367834  25.14430054\n",
            "  24.47622668  23.51077365   8.68220625   6.65209622   2.6395936\n",
            "  13.03673055  14.1550307   18.33989587  20.83361497  18.10574616\n",
            "  13.26551     17.7151051   20.6048966   15.78522312  19.73321195\n",
            "  25.54082888  21.18204475  28.83841101  26.94137539  20.0800139 ]\n"
          ],
          "name": "stdout"
        }
      ]
    },
    {
      "cell_type": "markdown",
      "metadata": {
        "id": "1Axjv3jRcI1M"
      },
      "source": [
        "Оцените полученную модель, рассчитав среднюю квадратичную ошибку, среднюю абсолютную ошибку и R2. Все эти величины рассчитываются соответствующими методами в классе metrics. Все они принимают 2 аргумента: 1 - истинные значения (для этого используем данные из тестовой выборки) и 2- предсказанные значения"
      ]
    },
    {
      "cell_type": "code",
      "metadata": {
        "colab": {
          "base_uri": "https://localhost:8080/"
        },
        "id": "rEWaEBS1cI1M",
        "outputId": "37925e73-8e92-424e-ea9c-237996b111cd"
      },
      "source": [
        "# Ваш код здесь\n",
        "#Средняя квадратичная ошибка\n",
        "print(metrics.mean_squared_error(Y_test, predict))\n",
        "#Средняя абсолютная ошибка\n",
        "print(metrics.mean_absolute_error(Y_test, predict))\n",
        "#Коэффициент детерминации R2\n",
        "print(metrics.r2_score(Y_test, predict))\n",
        "#Получаем отрицательное значение => тестовая выборка неадекватна("
      ],
      "execution_count": 21,
      "outputs": [
        {
          "output_type": "stream",
          "text": [
            "254.31280669400687\n",
            "8.645569759156585\n",
            "-1.721819445022791\n"
          ],
          "name": "stdout"
        }
      ]
    },
    {
      "cell_type": "markdown",
      "metadata": {
        "id": "aznzXq4UcI1M"
      },
      "source": [
        "Получите значения цены на недвижимость, используя обучающую часть выборки и оцените качество модели"
      ]
    },
    {
      "cell_type": "code",
      "metadata": {
        "colab": {
          "base_uri": "https://localhost:8080/"
        },
        "id": "l-Oarr9JcI1N",
        "outputId": "ce6eaacd-1e26-4534-f3d6-c4c8edd36f87"
      },
      "source": [
        "# Ваш код здесь\n",
        "predict_train=lm.predict(X_train)\n",
        "#print(predict_train)\n",
        "#Средняя квадратичная ошибка\n",
        "print(metrics.mean_squared_error(Y_train, predict_train))\n",
        "#Средняя абсолютная ошибка\n",
        "print(metrics.mean_absolute_error(Y_train, predict_train))\n",
        "#Коэффициент детерминации R2(показывает, какую долю разнообразия ответов наша модель смогла объяснить или предсказать)\n",
        "print(metrics.r2_score(Y_train, predict_train))"
      ],
      "execution_count": 23,
      "outputs": [
        {
          "output_type": "stream",
          "text": [
            "9.633874020539103\n",
            "2.40379908017306\n",
            "0.877626706559497\n"
          ],
          "name": "stdout"
        }
      ]
    },
    {
      "cell_type": "markdown",
      "metadata": {
        "id": "vU1Gf6tvcI1N"
      },
      "source": [
        "Сравните качество, полученное на тестовых и обучающих данных. Сделайте выводы о переобучении или недообучении модели."
      ]
    },
    {
      "cell_type": "markdown",
      "metadata": {
        "id": "eev54S1ucI1N"
      },
      "source": [
        "**Ваши выводы здесь**\n",
        "На тестовых данных коэффициент детерминации R2=-1.721 R2<0, следовательно модель хуже константной. \n",
        "В это же время, на обучающей части выборки мы получили R2=0,878 0<=R2<=1, следовательно модель относительно хорошего качества.\n",
        "Т.к. значение R2 лучше на обучающей части выборки, следовательно наша модель переобучена. Модель хорошо работает на обучающих данных и плохо на тестовых."
      ]
    },
    {
      "cell_type": "markdown",
      "metadata": {
        "id": "BjmxJl3WcI1O"
      },
      "source": [
        "### Кросс-валидация"
      ]
    },
    {
      "cell_type": "markdown",
      "metadata": {
        "id": "x_iUe_2AcI1P"
      },
      "source": [
        "Этот прием позволяет улучшить качество модели.\n",
        "Суть ее заключается в разделении выборки на равные части (фолды) и использовании 1 части в качестве тестовой , а остальных в качестве обучающей части выборки. Модель обучается столько раз, на сколько частей разбивается выборка."
      ]
    },
    {
      "cell_type": "markdown",
      "metadata": {
        "id": "NLB125glcI1P"
      },
      "source": [
        "<p>Для разбиения выборки по кросс валидации используется <p/>\n",
        "**cross_validation.train_test_split(X, Y, test_size = 0.3,random_state = 1)**\n",
        "* X - параметры модели\n",
        "* Y - целевая переменная\n",
        "* test_size - размер тестовой выборки в долях\n",
        "\n",
        "<p>Возращает</p> \n",
        "* 1- обучающую часть X\n",
        "* 2- тестовую часть X\n",
        "* 3- обучающую часть Y\n",
        "* 4- тестовую часть Y\n"
      ]
    },
    {
      "cell_type": "markdown",
      "metadata": {
        "id": "2yP-tZ-EcI1P"
      },
      "source": [
        "## Задание 3"
      ]
    },
    {
      "cell_type": "markdown",
      "metadata": {
        "id": "nidRbC2pcI1R"
      },
      "source": [
        "Разбейте выборку по кросс валидации и обучите регрессор"
      ]
    },
    {
      "cell_type": "code",
      "metadata": {
        "colab": {
          "base_uri": "https://localhost:8080/"
        },
        "id": "7koINK2HcI1R",
        "outputId": "1408fbc5-ab03-4677-8b96-c9c50754f22f"
      },
      "source": [
        "# Ваш код здесь\n",
        "x_train, x_test, y_train, y_test = train_test_split(X, Y, test_size=0.3, random_state=1)\n",
        "lm2=LinearRegression()\n",
        "lm2.fit(x_train, y_train)"
      ],
      "execution_count": 30,
      "outputs": [
        {
          "output_type": "execute_result",
          "data": {
            "text/plain": [
              "LinearRegression(copy_X=True, fit_intercept=True, n_jobs=None, normalize=False)"
            ]
          },
          "metadata": {
            "tags": []
          },
          "execution_count": 30
        }
      ]
    },
    {
      "cell_type": "markdown",
      "metadata": {
        "id": "j3nA6Bc5cI1R"
      },
      "source": [
        "Оцените качество модели на тестовой части выборки"
      ]
    },
    {
      "cell_type": "code",
      "metadata": {
        "colab": {
          "base_uri": "https://localhost:8080/"
        },
        "id": "bjkuHWKHcI1R",
        "outputId": "e2a10591-ea78-404b-aaee-19500baefe28"
      },
      "source": [
        "# Ваш код здесь\n",
        "predict2=lm2.predict(x_test)\n",
        "#Средняя квадратичная ошибка\n",
        "print(metrics.mean_squared_error(y_test, predict2))\n",
        "#Средняя абсолютная ошибка\n",
        "print(metrics.mean_absolute_error(y_test, predict2))\n",
        "#Коэффициент детерминации R2\n",
        "print(metrics.r2_score(y_test, predict2))"
      ],
      "execution_count": 31,
      "outputs": [
        {
          "output_type": "stream",
          "text": [
            "19.831323672063174\n",
            "3.3446655035987436\n",
            "0.7836295385076287\n"
          ],
          "name": "stdout"
        }
      ]
    },
    {
      "cell_type": "markdown",
      "metadata": {
        "id": "pcs-DLO0cI1S"
      },
      "source": [
        "Оцените качество модели на обучающей части выборки"
      ]
    },
    {
      "cell_type": "code",
      "metadata": {
        "colab": {
          "base_uri": "https://localhost:8080/"
        },
        "id": "TvJLxitgcI1S",
        "outputId": "c2263eb7-d588-4ba9-e974-a1ad028ede0d"
      },
      "source": [
        "# Ваш код здесь\n",
        "predict_train2=lm2.predict(x_train)\n",
        "#Средняя квадратичная ошибка\n",
        "print(metrics.mean_squared_error(y_train, predict_train2))\n",
        "#Средняя абсолютная ошибка\n",
        "print(metrics.mean_absolute_error(y_train, predict_train2))\n",
        "#Коэффициент детерминации R2(показывает, какую долю разнообразия ответов наша модель смогла объяснить или предсказать)\n",
        "print(metrics.r2_score(y_train, predict_train2))"
      ],
      "execution_count": 32,
      "outputs": [
        {
          "output_type": "stream",
          "text": [
            "23.513334449327022\n",
            "3.344436120657977\n",
            "0.7103879080674731\n"
          ],
          "name": "stdout"
        }
      ]
    },
    {
      "cell_type": "markdown",
      "metadata": {
        "id": "LeI_pp-7cI1S"
      },
      "source": [
        "Сделайте выводы о переобучении или недообучении модели"
      ]
    },
    {
      "cell_type": "markdown",
      "metadata": {
        "id": "JtQlBzSccI1S"
      },
      "source": [
        "**Ваши выводы** На тестовых и обучающих данных коэффициент находится в промежутке [0;1] ( 0.71 для обучающей, 0.78 для тестовой) следовательно модели относительно хорошего качества. Модель находится в той оптимальной точке, когда модель имеет наилучшую обобщающую способность."
      ]
    },
    {
      "cell_type": "markdown",
      "metadata": {
        "id": "znqgZefgcI1S"
      },
      "source": [
        "Получите веса модели и сохраните их в файл excel"
      ]
    },
    {
      "cell_type": "code",
      "metadata": {
        "id": "23kJRyzKcI1T"
      },
      "source": [
        "# Ваш код здесь\n",
        "coef2=pd.DataFrame(lm2.coef_)\n",
        "\n",
        "coef2.to_excel('boston.xlsx')"
      ],
      "execution_count": 34,
      "outputs": []
    },
    {
      "cell_type": "code",
      "metadata": {
        "id": "n0Twxj6PcI1T"
      },
      "source": [
        ""
      ],
      "execution_count": null,
      "outputs": []
    }
  ]
}