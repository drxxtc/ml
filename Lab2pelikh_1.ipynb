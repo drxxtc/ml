{
  "nbformat": 4,
  "nbformat_minor": 0,
  "metadata": {
    "colab": {
      "name": "Lab2Пелих.ipynb",
      "provenance": [],
      "collapsed_sections": [],
      "toc_visible": true
    },
    "kernelspec": {
      "display_name": "Python 3",
      "language": "python",
      "name": "python3"
    },
    "language_info": {
      "codemirror_mode": {
        "name": "ipython",
        "version": 3
      },
      "file_extension": ".py",
      "mimetype": "text/x-python",
      "name": "python",
      "nbconvert_exporter": "python",
      "pygments_lexer": "ipython3",
      "version": "3.8.3"
    }
  },
  "cells": [
    {
      "cell_type": "markdown",
      "metadata": {
        "collapsed": true,
        "id": "B11hd4Eg6lXj"
      },
      "source": [
        "## Лабораторная работа 2 \n",
        "# \"Выявление корреляций в выборке\""
      ]
    },
    {
      "cell_type": "markdown",
      "metadata": {
        "id": "utL2c20o6lXj"
      },
      "source": [
        "В этой работе рассматриваются данные о клиентах банка. В них указаны возраст клиентов, пол, образование, доход и есть целевая переменная - вернул ли клиент кредит.\n",
        "На основе этих данных мы выясним какие из показателей влияют на вероятность того, что клиент не вернет кредит\n",
        "Для начала зарузим библиотеки, необходимые в работе.\n",
        "Обратите особое внимание на библиотеку skipy.stats. Она нужна для работы с распределениями"
      ]
    },
    {
      "cell_type": "code",
      "metadata": {
        "id": "s8x9cU916lXj"
      },
      "source": [
        "import pandas as pd\n",
        "from matplotlib import pyplot as plt\n",
        "import numpy as np\n",
        "from scipy import stats # в этой библиотеке хранятся функции для работы с распределениями\n",
        "import scipy\n",
        "%matplotlib inline\n"
      ],
      "execution_count": 41,
      "outputs": []
    },
    {
      "cell_type": "code",
      "metadata": {
        "id": "cDRohQEtFwCJ",
        "colab": {
          "base_uri": "https://localhost:8080/"
        },
        "outputId": "1b136bed-3ff7-4d83-ca1f-366bfa8d9d15"
      },
      "source": [
        "from google.colab import drive\n",
        "drive.mount('/content/drive/')"
      ],
      "execution_count": 45,
      "outputs": [
        {
          "output_type": "stream",
          "text": [
            "Drive already mounted at /content/drive/; to attempt to forcibly remount, call drive.mount(\"/content/drive/\", force_remount=True).\n"
          ],
          "name": "stdout"
        }
      ]
    },
    {
      "cell_type": "code",
      "metadata": {
        "colab": {
          "base_uri": "https://localhost:8080/",
          "height": 224
        },
        "id": "caaP8gh16lXk",
        "outputId": "6c4bbe3d-1e89-4613-cfb5-d1cb0a10e40f"
      },
      "source": [
        "#считаем данные и посмотрим на них\n",
        "data = pd.read_csv('/content/drive/MyDrive/МатМод/credit_card_default_analysis.csv')\n",
        "data.head()"
      ],
      "execution_count": 46,
      "outputs": [
        {
          "output_type": "execute_result",
          "data": {
            "text/html": [
              "<div>\n",
              "<style scoped>\n",
              "    .dataframe tbody tr th:only-of-type {\n",
              "        vertical-align: middle;\n",
              "    }\n",
              "\n",
              "    .dataframe tbody tr th {\n",
              "        vertical-align: top;\n",
              "    }\n",
              "\n",
              "    .dataframe thead th {\n",
              "        text-align: right;\n",
              "    }\n",
              "</style>\n",
              "<table border=\"1\" class=\"dataframe\">\n",
              "  <thead>\n",
              "    <tr style=\"text-align: right;\">\n",
              "      <th></th>\n",
              "      <th>ID</th>\n",
              "      <th>LIMIT_BAL</th>\n",
              "      <th>SEX</th>\n",
              "      <th>EDUCATION</th>\n",
              "      <th>MARRIAGE</th>\n",
              "      <th>AGE</th>\n",
              "      <th>PAY_0</th>\n",
              "      <th>PAY_2</th>\n",
              "      <th>PAY_3</th>\n",
              "      <th>PAY_4</th>\n",
              "      <th>PAY_5</th>\n",
              "      <th>PAY_6</th>\n",
              "      <th>BILL_AMT1</th>\n",
              "      <th>BILL_AMT2</th>\n",
              "      <th>BILL_AMT3</th>\n",
              "      <th>BILL_AMT4</th>\n",
              "      <th>BILL_AMT5</th>\n",
              "      <th>BILL_AMT6</th>\n",
              "      <th>PAY_AMT1</th>\n",
              "      <th>PAY_AMT2</th>\n",
              "      <th>PAY_AMT3</th>\n",
              "      <th>PAY_AMT4</th>\n",
              "      <th>PAY_AMT5</th>\n",
              "      <th>PAY_AMT6</th>\n",
              "      <th>default</th>\n",
              "    </tr>\n",
              "  </thead>\n",
              "  <tbody>\n",
              "    <tr>\n",
              "      <th>0</th>\n",
              "      <td>1</td>\n",
              "      <td>20000</td>\n",
              "      <td>2</td>\n",
              "      <td>2</td>\n",
              "      <td>1</td>\n",
              "      <td>24</td>\n",
              "      <td>2</td>\n",
              "      <td>2</td>\n",
              "      <td>0</td>\n",
              "      <td>0</td>\n",
              "      <td>0</td>\n",
              "      <td>0</td>\n",
              "      <td>3913</td>\n",
              "      <td>3102</td>\n",
              "      <td>689</td>\n",
              "      <td>0</td>\n",
              "      <td>0</td>\n",
              "      <td>0</td>\n",
              "      <td>0</td>\n",
              "      <td>689</td>\n",
              "      <td>0</td>\n",
              "      <td>0</td>\n",
              "      <td>0</td>\n",
              "      <td>0</td>\n",
              "      <td>1</td>\n",
              "    </tr>\n",
              "    <tr>\n",
              "      <th>1</th>\n",
              "      <td>2</td>\n",
              "      <td>120000</td>\n",
              "      <td>2</td>\n",
              "      <td>2</td>\n",
              "      <td>2</td>\n",
              "      <td>26</td>\n",
              "      <td>0</td>\n",
              "      <td>2</td>\n",
              "      <td>0</td>\n",
              "      <td>0</td>\n",
              "      <td>0</td>\n",
              "      <td>2</td>\n",
              "      <td>2682</td>\n",
              "      <td>1725</td>\n",
              "      <td>2682</td>\n",
              "      <td>3272</td>\n",
              "      <td>3455</td>\n",
              "      <td>3261</td>\n",
              "      <td>0</td>\n",
              "      <td>1000</td>\n",
              "      <td>1000</td>\n",
              "      <td>1000</td>\n",
              "      <td>0</td>\n",
              "      <td>2000</td>\n",
              "      <td>1</td>\n",
              "    </tr>\n",
              "    <tr>\n",
              "      <th>2</th>\n",
              "      <td>3</td>\n",
              "      <td>90000</td>\n",
              "      <td>2</td>\n",
              "      <td>2</td>\n",
              "      <td>2</td>\n",
              "      <td>34</td>\n",
              "      <td>0</td>\n",
              "      <td>0</td>\n",
              "      <td>0</td>\n",
              "      <td>0</td>\n",
              "      <td>0</td>\n",
              "      <td>0</td>\n",
              "      <td>29239</td>\n",
              "      <td>14027</td>\n",
              "      <td>13559</td>\n",
              "      <td>14331</td>\n",
              "      <td>14948</td>\n",
              "      <td>15549</td>\n",
              "      <td>1518</td>\n",
              "      <td>1500</td>\n",
              "      <td>1000</td>\n",
              "      <td>1000</td>\n",
              "      <td>1000</td>\n",
              "      <td>5000</td>\n",
              "      <td>0</td>\n",
              "    </tr>\n",
              "    <tr>\n",
              "      <th>3</th>\n",
              "      <td>4</td>\n",
              "      <td>50000</td>\n",
              "      <td>2</td>\n",
              "      <td>2</td>\n",
              "      <td>1</td>\n",
              "      <td>37</td>\n",
              "      <td>0</td>\n",
              "      <td>0</td>\n",
              "      <td>0</td>\n",
              "      <td>0</td>\n",
              "      <td>0</td>\n",
              "      <td>0</td>\n",
              "      <td>46990</td>\n",
              "      <td>48233</td>\n",
              "      <td>49291</td>\n",
              "      <td>28314</td>\n",
              "      <td>28959</td>\n",
              "      <td>29547</td>\n",
              "      <td>2000</td>\n",
              "      <td>2019</td>\n",
              "      <td>1200</td>\n",
              "      <td>1100</td>\n",
              "      <td>1069</td>\n",
              "      <td>1000</td>\n",
              "      <td>0</td>\n",
              "    </tr>\n",
              "    <tr>\n",
              "      <th>4</th>\n",
              "      <td>5</td>\n",
              "      <td>50000</td>\n",
              "      <td>1</td>\n",
              "      <td>2</td>\n",
              "      <td>1</td>\n",
              "      <td>57</td>\n",
              "      <td>0</td>\n",
              "      <td>0</td>\n",
              "      <td>0</td>\n",
              "      <td>0</td>\n",
              "      <td>0</td>\n",
              "      <td>0</td>\n",
              "      <td>8617</td>\n",
              "      <td>5670</td>\n",
              "      <td>35835</td>\n",
              "      <td>20940</td>\n",
              "      <td>19146</td>\n",
              "      <td>19131</td>\n",
              "      <td>2000</td>\n",
              "      <td>36681</td>\n",
              "      <td>10000</td>\n",
              "      <td>9000</td>\n",
              "      <td>689</td>\n",
              "      <td>679</td>\n",
              "      <td>0</td>\n",
              "    </tr>\n",
              "  </tbody>\n",
              "</table>\n",
              "</div>"
            ],
            "text/plain": [
              "   ID  LIMIT_BAL  SEX  EDUCATION  ...  PAY_AMT4  PAY_AMT5  PAY_AMT6  default\n",
              "0   1      20000    2          2  ...         0         0         0        1\n",
              "1   2     120000    2          2  ...      1000         0      2000        1\n",
              "2   3      90000    2          2  ...      1000      1000      5000        0\n",
              "3   4      50000    2          2  ...      1100      1069      1000        0\n",
              "4   5      50000    1          2  ...      9000       689       679        0\n",
              "\n",
              "[5 rows x 25 columns]"
            ]
          },
          "metadata": {
            "tags": []
          },
          "execution_count": 46
        }
      ]
    },
    {
      "cell_type": "code",
      "metadata": {
        "colab": {
          "base_uri": "https://localhost:8080/"
        },
        "id": "wL-vvSMI6lXk",
        "outputId": "52d61c1c-5225-4fab-e375-d97106a055c1"
      },
      "source": [
        "#посмотрим на объем выборки в целом\n",
        "data.shape"
      ],
      "execution_count": 30,
      "outputs": [
        {
          "output_type": "execute_result",
          "data": {
            "text/plain": [
              "(30000, 25)"
            ]
          },
          "metadata": {
            "tags": []
          },
          "execution_count": 30
        }
      ]
    },
    {
      "cell_type": "code",
      "metadata": {
        "colab": {
          "base_uri": "https://localhost:8080/"
        },
        "id": "1boq4ALc6lXl",
        "outputId": "3f939a1f-c858-428a-b395-6681d8d10597"
      },
      "source": [
        "#посмотрим на объем выборки по отданным и не отданным кредитам\n",
        "data.default.value_counts()"
      ],
      "execution_count": 31,
      "outputs": [
        {
          "output_type": "execute_result",
          "data": {
            "text/plain": [
              "0    23364\n",
              "1     6636\n",
              "Name: default, dtype: int64"
            ]
          },
          "metadata": {
            "tags": []
          },
          "execution_count": 31
        }
      ]
    },
    {
      "cell_type": "markdown",
      "metadata": {
        "id": "d3Z92a8L6lXl"
      },
      "source": [
        "Явно выборки по признаку default не сбалансированы"
      ]
    },
    {
      "cell_type": "code",
      "metadata": {
        "id": "xko-YiXM6lXl"
      },
      "source": [
        "def permutation_t_stat_ind(sample1, sample2):\n",
        "    return np.mean(sample1) - np.mean(sample2)"
      ],
      "execution_count": null,
      "outputs": []
    },
    {
      "cell_type": "markdown",
      "metadata": {
        "id": "faIccDiv6lXl"
      },
      "source": [
        "## Задание 1"
      ]
    },
    {
      "cell_type": "markdown",
      "metadata": {
        "id": "tRa6jKGd6lXl"
      },
      "source": [
        "Разделите выборку на 2 группы по признаку вернули кредит или нет."
      ]
    },
    {
      "cell_type": "code",
      "metadata": {
        "colab": {
          "base_uri": "https://localhost:8080/",
          "height": 482
        },
        "id": "YZZ2YEwG6lXl",
        "outputId": "28d8ae83-a4be-43d2-aeff-5294f0a48244"
      },
      "source": [
        "# Ваш код здесь\n",
        "x = data[data.default == 0] \n",
        "y = data[data.default == 1] \n",
        "print(\"Первые 5 вернули\", x.shape)\n",
        "display(x.head())\n",
        "print(\"Первые 5 не вернули\", y.shape)\n",
        "display(y.head())"
      ],
      "execution_count": null,
      "outputs": [
        {
          "output_type": "stream",
          "text": [
            "Первые 5 строк с теме кто вернул кредит (23364, 25)\n"
          ],
          "name": "stdout"
        },
        {
          "output_type": "display_data",
          "data": {
            "text/html": [
              "<div>\n",
              "<style scoped>\n",
              "    .dataframe tbody tr th:only-of-type {\n",
              "        vertical-align: middle;\n",
              "    }\n",
              "\n",
              "    .dataframe tbody tr th {\n",
              "        vertical-align: top;\n",
              "    }\n",
              "\n",
              "    .dataframe thead th {\n",
              "        text-align: right;\n",
              "    }\n",
              "</style>\n",
              "<table border=\"1\" class=\"dataframe\">\n",
              "  <thead>\n",
              "    <tr style=\"text-align: right;\">\n",
              "      <th></th>\n",
              "      <th>ID</th>\n",
              "      <th>LIMIT_BAL</th>\n",
              "      <th>SEX</th>\n",
              "      <th>EDUCATION</th>\n",
              "      <th>MARRIAGE</th>\n",
              "      <th>AGE</th>\n",
              "      <th>PAY_0</th>\n",
              "      <th>PAY_2</th>\n",
              "      <th>PAY_3</th>\n",
              "      <th>PAY_4</th>\n",
              "      <th>PAY_5</th>\n",
              "      <th>PAY_6</th>\n",
              "      <th>BILL_AMT1</th>\n",
              "      <th>BILL_AMT2</th>\n",
              "      <th>BILL_AMT3</th>\n",
              "      <th>BILL_AMT4</th>\n",
              "      <th>BILL_AMT5</th>\n",
              "      <th>BILL_AMT6</th>\n",
              "      <th>PAY_AMT1</th>\n",
              "      <th>PAY_AMT2</th>\n",
              "      <th>PAY_AMT3</th>\n",
              "      <th>PAY_AMT4</th>\n",
              "      <th>PAY_AMT5</th>\n",
              "      <th>PAY_AMT6</th>\n",
              "      <th>default</th>\n",
              "    </tr>\n",
              "  </thead>\n",
              "  <tbody>\n",
              "    <tr>\n",
              "      <th>2</th>\n",
              "      <td>3</td>\n",
              "      <td>90000</td>\n",
              "      <td>2</td>\n",
              "      <td>2</td>\n",
              "      <td>2</td>\n",
              "      <td>34</td>\n",
              "      <td>0</td>\n",
              "      <td>0</td>\n",
              "      <td>0</td>\n",
              "      <td>0</td>\n",
              "      <td>0</td>\n",
              "      <td>0</td>\n",
              "      <td>29239</td>\n",
              "      <td>14027</td>\n",
              "      <td>13559</td>\n",
              "      <td>14331</td>\n",
              "      <td>14948</td>\n",
              "      <td>15549</td>\n",
              "      <td>1518</td>\n",
              "      <td>1500</td>\n",
              "      <td>1000</td>\n",
              "      <td>1000</td>\n",
              "      <td>1000</td>\n",
              "      <td>5000</td>\n",
              "      <td>0</td>\n",
              "    </tr>\n",
              "    <tr>\n",
              "      <th>3</th>\n",
              "      <td>4</td>\n",
              "      <td>50000</td>\n",
              "      <td>2</td>\n",
              "      <td>2</td>\n",
              "      <td>1</td>\n",
              "      <td>37</td>\n",
              "      <td>0</td>\n",
              "      <td>0</td>\n",
              "      <td>0</td>\n",
              "      <td>0</td>\n",
              "      <td>0</td>\n",
              "      <td>0</td>\n",
              "      <td>46990</td>\n",
              "      <td>48233</td>\n",
              "      <td>49291</td>\n",
              "      <td>28314</td>\n",
              "      <td>28959</td>\n",
              "      <td>29547</td>\n",
              "      <td>2000</td>\n",
              "      <td>2019</td>\n",
              "      <td>1200</td>\n",
              "      <td>1100</td>\n",
              "      <td>1069</td>\n",
              "      <td>1000</td>\n",
              "      <td>0</td>\n",
              "    </tr>\n",
              "    <tr>\n",
              "      <th>4</th>\n",
              "      <td>5</td>\n",
              "      <td>50000</td>\n",
              "      <td>1</td>\n",
              "      <td>2</td>\n",
              "      <td>1</td>\n",
              "      <td>57</td>\n",
              "      <td>0</td>\n",
              "      <td>0</td>\n",
              "      <td>0</td>\n",
              "      <td>0</td>\n",
              "      <td>0</td>\n",
              "      <td>0</td>\n",
              "      <td>8617</td>\n",
              "      <td>5670</td>\n",
              "      <td>35835</td>\n",
              "      <td>20940</td>\n",
              "      <td>19146</td>\n",
              "      <td>19131</td>\n",
              "      <td>2000</td>\n",
              "      <td>36681</td>\n",
              "      <td>10000</td>\n",
              "      <td>9000</td>\n",
              "      <td>689</td>\n",
              "      <td>679</td>\n",
              "      <td>0</td>\n",
              "    </tr>\n",
              "    <tr>\n",
              "      <th>5</th>\n",
              "      <td>6</td>\n",
              "      <td>50000</td>\n",
              "      <td>1</td>\n",
              "      <td>1</td>\n",
              "      <td>2</td>\n",
              "      <td>37</td>\n",
              "      <td>0</td>\n",
              "      <td>0</td>\n",
              "      <td>0</td>\n",
              "      <td>0</td>\n",
              "      <td>0</td>\n",
              "      <td>0</td>\n",
              "      <td>64400</td>\n",
              "      <td>57069</td>\n",
              "      <td>57608</td>\n",
              "      <td>19394</td>\n",
              "      <td>19619</td>\n",
              "      <td>20024</td>\n",
              "      <td>2500</td>\n",
              "      <td>1815</td>\n",
              "      <td>657</td>\n",
              "      <td>1000</td>\n",
              "      <td>1000</td>\n",
              "      <td>800</td>\n",
              "      <td>0</td>\n",
              "    </tr>\n",
              "    <tr>\n",
              "      <th>6</th>\n",
              "      <td>7</td>\n",
              "      <td>500000</td>\n",
              "      <td>1</td>\n",
              "      <td>1</td>\n",
              "      <td>2</td>\n",
              "      <td>29</td>\n",
              "      <td>0</td>\n",
              "      <td>0</td>\n",
              "      <td>0</td>\n",
              "      <td>0</td>\n",
              "      <td>0</td>\n",
              "      <td>0</td>\n",
              "      <td>367965</td>\n",
              "      <td>412023</td>\n",
              "      <td>445007</td>\n",
              "      <td>542653</td>\n",
              "      <td>483003</td>\n",
              "      <td>473944</td>\n",
              "      <td>55000</td>\n",
              "      <td>40000</td>\n",
              "      <td>38000</td>\n",
              "      <td>20239</td>\n",
              "      <td>13750</td>\n",
              "      <td>13770</td>\n",
              "      <td>0</td>\n",
              "    </tr>\n",
              "  </tbody>\n",
              "</table>\n",
              "</div>"
            ],
            "text/plain": [
              "   ID  LIMIT_BAL  SEX  EDUCATION  ...  PAY_AMT4  PAY_AMT5  PAY_AMT6  default\n",
              "2   3      90000    2          2  ...      1000      1000      5000        0\n",
              "3   4      50000    2          2  ...      1100      1069      1000        0\n",
              "4   5      50000    1          2  ...      9000       689       679        0\n",
              "5   6      50000    1          1  ...      1000      1000       800        0\n",
              "6   7     500000    1          1  ...     20239     13750     13770        0\n",
              "\n",
              "[5 rows x 25 columns]"
            ]
          },
          "metadata": {
            "tags": []
          }
        },
        {
          "output_type": "stream",
          "text": [
            "\n",
            "\n",
            "\n",
            "Первые 5 строк с теме кто не вернул кредит (6636, 25)\n"
          ],
          "name": "stdout"
        },
        {
          "output_type": "display_data",
          "data": {
            "text/html": [
              "<div>\n",
              "<style scoped>\n",
              "    .dataframe tbody tr th:only-of-type {\n",
              "        vertical-align: middle;\n",
              "    }\n",
              "\n",
              "    .dataframe tbody tr th {\n",
              "        vertical-align: top;\n",
              "    }\n",
              "\n",
              "    .dataframe thead th {\n",
              "        text-align: right;\n",
              "    }\n",
              "</style>\n",
              "<table border=\"1\" class=\"dataframe\">\n",
              "  <thead>\n",
              "    <tr style=\"text-align: right;\">\n",
              "      <th></th>\n",
              "      <th>ID</th>\n",
              "      <th>LIMIT_BAL</th>\n",
              "      <th>SEX</th>\n",
              "      <th>EDUCATION</th>\n",
              "      <th>MARRIAGE</th>\n",
              "      <th>AGE</th>\n",
              "      <th>PAY_0</th>\n",
              "      <th>PAY_2</th>\n",
              "      <th>PAY_3</th>\n",
              "      <th>PAY_4</th>\n",
              "      <th>PAY_5</th>\n",
              "      <th>PAY_6</th>\n",
              "      <th>BILL_AMT1</th>\n",
              "      <th>BILL_AMT2</th>\n",
              "      <th>BILL_AMT3</th>\n",
              "      <th>BILL_AMT4</th>\n",
              "      <th>BILL_AMT5</th>\n",
              "      <th>BILL_AMT6</th>\n",
              "      <th>PAY_AMT1</th>\n",
              "      <th>PAY_AMT2</th>\n",
              "      <th>PAY_AMT3</th>\n",
              "      <th>PAY_AMT4</th>\n",
              "      <th>PAY_AMT5</th>\n",
              "      <th>PAY_AMT6</th>\n",
              "      <th>default</th>\n",
              "    </tr>\n",
              "  </thead>\n",
              "  <tbody>\n",
              "    <tr>\n",
              "      <th>0</th>\n",
              "      <td>1</td>\n",
              "      <td>20000</td>\n",
              "      <td>2</td>\n",
              "      <td>2</td>\n",
              "      <td>1</td>\n",
              "      <td>24</td>\n",
              "      <td>2</td>\n",
              "      <td>2</td>\n",
              "      <td>0</td>\n",
              "      <td>0</td>\n",
              "      <td>0</td>\n",
              "      <td>0</td>\n",
              "      <td>3913</td>\n",
              "      <td>3102</td>\n",
              "      <td>689</td>\n",
              "      <td>0</td>\n",
              "      <td>0</td>\n",
              "      <td>0</td>\n",
              "      <td>0</td>\n",
              "      <td>689</td>\n",
              "      <td>0</td>\n",
              "      <td>0</td>\n",
              "      <td>0</td>\n",
              "      <td>0</td>\n",
              "      <td>1</td>\n",
              "    </tr>\n",
              "    <tr>\n",
              "      <th>1</th>\n",
              "      <td>2</td>\n",
              "      <td>120000</td>\n",
              "      <td>2</td>\n",
              "      <td>2</td>\n",
              "      <td>2</td>\n",
              "      <td>26</td>\n",
              "      <td>0</td>\n",
              "      <td>2</td>\n",
              "      <td>0</td>\n",
              "      <td>0</td>\n",
              "      <td>0</td>\n",
              "      <td>2</td>\n",
              "      <td>2682</td>\n",
              "      <td>1725</td>\n",
              "      <td>2682</td>\n",
              "      <td>3272</td>\n",
              "      <td>3455</td>\n",
              "      <td>3261</td>\n",
              "      <td>0</td>\n",
              "      <td>1000</td>\n",
              "      <td>1000</td>\n",
              "      <td>1000</td>\n",
              "      <td>0</td>\n",
              "      <td>2000</td>\n",
              "      <td>1</td>\n",
              "    </tr>\n",
              "    <tr>\n",
              "      <th>13</th>\n",
              "      <td>14</td>\n",
              "      <td>70000</td>\n",
              "      <td>1</td>\n",
              "      <td>2</td>\n",
              "      <td>2</td>\n",
              "      <td>30</td>\n",
              "      <td>1</td>\n",
              "      <td>2</td>\n",
              "      <td>2</td>\n",
              "      <td>0</td>\n",
              "      <td>0</td>\n",
              "      <td>2</td>\n",
              "      <td>65802</td>\n",
              "      <td>67369</td>\n",
              "      <td>65701</td>\n",
              "      <td>66782</td>\n",
              "      <td>36137</td>\n",
              "      <td>36894</td>\n",
              "      <td>3200</td>\n",
              "      <td>0</td>\n",
              "      <td>3000</td>\n",
              "      <td>3000</td>\n",
              "      <td>1500</td>\n",
              "      <td>0</td>\n",
              "      <td>1</td>\n",
              "    </tr>\n",
              "    <tr>\n",
              "      <th>16</th>\n",
              "      <td>17</td>\n",
              "      <td>20000</td>\n",
              "      <td>1</td>\n",
              "      <td>1</td>\n",
              "      <td>2</td>\n",
              "      <td>24</td>\n",
              "      <td>0</td>\n",
              "      <td>0</td>\n",
              "      <td>2</td>\n",
              "      <td>2</td>\n",
              "      <td>2</td>\n",
              "      <td>2</td>\n",
              "      <td>15376</td>\n",
              "      <td>18010</td>\n",
              "      <td>17428</td>\n",
              "      <td>18338</td>\n",
              "      <td>17905</td>\n",
              "      <td>19104</td>\n",
              "      <td>3200</td>\n",
              "      <td>0</td>\n",
              "      <td>1500</td>\n",
              "      <td>0</td>\n",
              "      <td>1650</td>\n",
              "      <td>0</td>\n",
              "      <td>1</td>\n",
              "    </tr>\n",
              "    <tr>\n",
              "      <th>21</th>\n",
              "      <td>22</td>\n",
              "      <td>120000</td>\n",
              "      <td>2</td>\n",
              "      <td>2</td>\n",
              "      <td>1</td>\n",
              "      <td>39</td>\n",
              "      <td>0</td>\n",
              "      <td>0</td>\n",
              "      <td>0</td>\n",
              "      <td>0</td>\n",
              "      <td>0</td>\n",
              "      <td>0</td>\n",
              "      <td>316</td>\n",
              "      <td>316</td>\n",
              "      <td>316</td>\n",
              "      <td>0</td>\n",
              "      <td>632</td>\n",
              "      <td>316</td>\n",
              "      <td>316</td>\n",
              "      <td>316</td>\n",
              "      <td>0</td>\n",
              "      <td>632</td>\n",
              "      <td>316</td>\n",
              "      <td>0</td>\n",
              "      <td>1</td>\n",
              "    </tr>\n",
              "  </tbody>\n",
              "</table>\n",
              "</div>"
            ],
            "text/plain": [
              "    ID  LIMIT_BAL  SEX  EDUCATION  ...  PAY_AMT4  PAY_AMT5  PAY_AMT6  default\n",
              "0    1      20000    2          2  ...         0         0         0        1\n",
              "1    2     120000    2          2  ...      1000         0      2000        1\n",
              "13  14      70000    1          2  ...      3000      1500         0        1\n",
              "16  17      20000    1          1  ...         0      1650         0        1\n",
              "21  22     120000    2          2  ...       632       316         0        1\n",
              "\n",
              "[5 rows x 25 columns]"
            ]
          },
          "metadata": {
            "tags": []
          }
        }
      ]
    },
    {
      "cell_type": "markdown",
      "metadata": {
        "id": "I_fPYCu36lXl"
      },
      "source": [
        "Постройте распределения признака \"лимитный кредит\" в обеих группах"
      ]
    },
    {
      "cell_type": "code",
      "metadata": {
        "colab": {
          "base_uri": "https://localhost:8080/",
          "height": 306
        },
        "id": "aalHSNhC6lXl",
        "outputId": "cf1c19ee-9a37-4242-ef51-c1619ad93c0b"
      },
      "source": [
        "# Ваш код здесь\n",
        "rasx = x['LIMIT_BAL']\n",
        "rasx.plot.kde()\n",
        "\n",
        "#цвет-желтый\n",
        "rasy = y['LIMIT_BAL']\n",
        "rasy.plot.kde()"
      ],
      "execution_count": null,
      "outputs": [
        {
          "output_type": "execute_result",
          "data": {
            "text/plain": [
              "<matplotlib.axes._subplots.AxesSubplot at 0x7f3eac0f7b00>"
            ]
          },
          "metadata": {
            "tags": []
          },
          "execution_count": 101
        },
        {
          "output_type": "display_data",
          "data": {
            "image/png": "[encoded data removed]",
            "text/plain": [
              "<Figure size 432x288 with 1 Axes>"
            ]
          },
          "metadata": {
            "tags": []
          }
        }
      ]
    },
    {
      "cell_type": "markdown",
      "metadata": {
        "id": "OHtr0zWK6lXl"
      },
      "source": [
        "Оцените распределения по внешнему виду"
      ]
    },
    {
      "cell_type": "code",
      "metadata": {
        "id": "U9OWjQZp6lXl"
      },
      "source": [
        "#Выводы: По графику видно, что распределения лимитов похожи, есть разница в размере.\n",
        "# Кредитный лимит выше у тех, кто вернул."
      ],
      "execution_count": null,
      "outputs": []
    },
    {
      "cell_type": "markdown",
      "metadata": {
        "id": "aGzmpBZs6lXl"
      },
      "source": [
        "Относительно двух групп людей вернувших и не вернувших кредит проверьте следующие гипотезы: a) о равенстве медианных значений размера лимитного кредита b) о равенстве распределений с помощью одного из подходящих непараметрических критериев проверки равенства средних. Значимы ли полученные результаты с практической точки зрения ?"
      ]
    },
    {
      "cell_type": "markdown",
      "metadata": {
        "id": "_-kUbBr_diSQ"
      },
      "source": [
        "1.а) гипотеза о равенстве медианных значений размера лимитного кредита.\n",
        "\n",
        "H0 - медианные значения равны, а  H1 - не равны.\n",
        "Построим доверительные интервалы, если они не перескутся, то нулевую гипотезу отвергним"
      ]
    },
    {
      "cell_type": "code",
      "metadata": {
        "id": "IGa-fAfe6lXl"
      },
      "source": [
        "#функция для бутстрапа\n",
        "def get_bootstrap_samples(data, n_samples):\n",
        "    indices = np.random.randint(0, len(data), (n_samples, len(data)))\n",
        "    samples = data[indices]\n",
        "    return samples"
      ],
      "execution_count": null,
      "outputs": []
    },
    {
      "cell_type": "code",
      "metadata": {
        "id": "VsCFf13D6lXl"
      },
      "source": [
        "#функция для расчета доверительного интервала\n",
        "def stat_intervals(stat, alpha):\n",
        "    boundaries = np.percentile(stat, [100 * alpha / 2., 100 * (1 - alpha / 2.)])\n",
        "    return boundaries"
      ],
      "execution_count": null,
      "outputs": []
    },
    {
      "cell_type": "code",
      "metadata": {
        "colab": {
          "base_uri": "https://localhost:8080/"
        },
        "id": "9djPpgk16lXl",
        "outputId": "8c8140e6-be8e-424c-9132-4752928eb301"
      },
      "source": [
        "#создаем массивы признаков\n",
        "defaultZero = data[data.default==0].LIMIT_BAL.values # кредитный лимит, для тех кто вернул кредит\n",
        "defaultOne   = data[data.default==1].LIMIT_BAL.values # кредитный лимит, для тех кто не вернул кредит\n",
        "\n",
        "print(type(defaultOne), defaultOne.shape, max(defaultOne), max(defaultZero))"
      ],
      "execution_count": 26,
      "outputs": [
        {
          "output_type": "stream",
          "text": [
            "<class 'numpy.ndarray'> (6636,) 740000 1000000\n"
          ],
          "name": "stdout"
        }
      ]
    },
    {
      "cell_type": "code",
      "metadata": {
        "colab": {
          "base_uri": "https://localhost:8080/"
        },
        "id": "9qIiD1JN6lXl",
        "outputId": "8c37ed1e-2f18-41b5-8a11-2027f2b88d57"
      },
      "source": [
        "alpha = 0.05 #Уровень доверия 95%\n",
        "#фиксируем генератор случайных чисел\n",
        "np.random.seed(0)\n",
        "#создаем по 1000 выборок и считаем на них медиану\n",
        "# используя map()\n",
        "defaulOneMedian = list( map(np.median,  get_bootstrap_samples(defaultOne, 1000)) ) \n",
        "defaultZeroMedian = list( map(np.median,  get_bootstrap_samples(defaultZero, 1000)) )\n",
        "\n",
        "#Уровень доверия 95%\n",
        "сonfidenceIntervalZero = np.array( stat_intervals(defaultZeroMedian, alpha))\n",
        "сonfidenceIntervalOne  = np.array( stat_intervals(defaulOneMedian, alpha) )\n",
        "print(\"Доверительный интервалы для тех кто платит: \", сonfidenceIntervalZero)\n",
        "print(\"Доверительный интервалы для тех кто не платит: \", сonfidenceIntervalOne)\n",
        "\n",
        "#Сравниваем интервалы \n",
        "diffConfidenceInterval = сonfidenceIntervalZero - сonfidenceIntervalOne\n",
        "print(\"Разница между доверительным интервалом тек кто платил и тех кто не платит: \", diffConfidenceInterval)\n",
        "# Ваш код здесь"
      ],
      "execution_count": null,
      "outputs": [
        {
          "output_type": "stream",
          "text": [
            "Доверительный интервалы для тех кто платит:  [150000. 150000.]\n",
            "Доверительный интервалы для тех кто не платит:  [80000. 90000.]\n",
            "Разница между доверительным интервалом тек кто платил и тех кто не платит:  [70000. 60000.]\n"
          ],
          "name": "stdout"
        }
      ]
    },
    {
      "cell_type": "markdown",
      "metadata": {
        "id": "3xLKqfkfb8kz"
      },
      "source": [
        "Ваши выводы здесь\n",
        "Нулевую гипотезу мы отвергаем, т.к. доверительный интервал для разницы кредитного лимита между тех кто платит и тех кто не платит, больше  нуля. То есть интервалы не пересикаются. Значит данные выборки статистически значисмые. "
      ]
    },
    {
      "cell_type": "markdown",
      "metadata": {
        "id": "aNRYXK1ipT8d"
      },
      "source": [
        " b) о равенстве распределений с помощью одного из подходящих непараметрических критериев проверки равенства средних\n",
        "\n",
        "H0 - распределения равны;\n",
        "H1 - не равны."
      ]
    },
    {
      "cell_type": "code",
      "metadata": {
        "id": "dmNIUQHp6lXl"
      },
      "source": [
        "def get_random_combinations(n1, n2, max_combinations):\n",
        "    index = list ( range(n1 + n2) ) ######### не забыть спросить\n",
        "    indices = set([tuple(index)])\n",
        "    print(np.random.shuffle(index))\n",
        "    for i in range(max_combinations - 1):\n",
        "        np.random.shuffle(index)\n",
        "        indices.add(tuple(index))\n",
        "    return [(index[:n1], index[n1:]) for index in indices]"
      ],
      "execution_count": null,
      "outputs": []
    },
    {
      "cell_type": "code",
      "metadata": {
        "id": "HhIexJux6lXl"
      },
      "source": [
        "def permutation_zero_dist_ind(sample1, sample2, max_combinations = None):\n",
        "    joined_sample = np.hstack((sample1, sample2))\n",
        "    n1 = len(sample1)\n",
        "    n = len(joined_sample)\n",
        "    \n",
        "    if max_combinations:\n",
        "        indices = get_random_combinations(n1, len(sample2), max_combinations)\n",
        "    else:\n",
        "        indices = [(list(index), filter(lambda i: i not in index, range(n))) \\\n",
        "                    for index in itertools.combinations(range(n), n1)]\n",
        "    \n",
        "    distr = [joined_sample[list(i[0])].mean() - joined_sample[list(i[1])].mean() \\\n",
        "             for i in indices]\n",
        "    return distr"
      ],
      "execution_count": null,
      "outputs": []
    },
    {
      "cell_type": "code",
      "metadata": {
        "id": "gg-OGwI86lXl"
      },
      "source": [
        "def permutation_zero_dist_ind(sample1, sample2, max_combinations = None):\n",
        "    joined_sample = np.hstack((sample1, sample2))\n",
        "    n1 = len(sample1)\n",
        "    n = len(joined_sample)\n",
        "    \n",
        "    if max_combinations:\n",
        "        indices = get_random_combinations(n1, len(sample2), max_combinations)\n",
        "    else:\n",
        "        indices = [(list(index), filter(lambda i: i not in index, range(n))) \\\n",
        "                    for index in itertools.combinations(range(n), n1)]\n",
        "    \n",
        "    distr = [joined_sample[list(i[0])].mean() - joined_sample[list(i[1])].mean() \\\n",
        "             for i in indices]\n",
        "    return distr"
      ],
      "execution_count": null,
      "outputs": []
    },
    {
      "cell_type": "code",
      "metadata": {
        "id": "Wq0pg6tW6lXl"
      },
      "source": [
        "def permutation_test(sample, mean, max_permutations = None, alternative = 'two-sided'):\n",
        "    if alternative not in ('two-sided', 'less', 'greater'):\n",
        "        raise ValueError(\"alternative not recognized\\n\"\n",
        "                         \"should be 'two-sided', 'less' or 'greater'\")\n",
        "    \n",
        "    t_stat = permutation_t_stat_ind(sample, mean)\n",
        "    \n",
        "    zero_distr = permutation_zero_dist_ind(sample, mean, max_permutations)\n",
        "    \n",
        "    if alternative == 'two-sided':\n",
        "        return sum([1. if abs(x) >= abs(t_stat) else 0. for x in zero_distr]) / len(zero_distr)\n",
        "    \n",
        "    if alternative == 'less':\n",
        "        return sum([1. if x <= t_stat else 0. for x in zero_distr]) / len(zero_distr)\n",
        "\n",
        "    if alternative == 'greater':\n",
        "        return sum([1. if x >= t_stat else 0. for x in zero_distr]) / len(zero_distr)"
      ],
      "execution_count": null,
      "outputs": []
    },
    {
      "cell_type": "code",
      "metadata": {
        "colab": {
          "base_uri": "https://localhost:8080/"
        },
        "id": "EGG85qI9pTt5",
        "outputId": "9ecffff9-d34d-414e-8819-31e4882c8356"
      },
      "source": [
        "#Проверка вероятности достоверности гипотезы\n",
        "pValue = permutation_test(defaultZero, defaultOne, max_permutations=1000)\n",
        "print(\"Достигаемый уровень значимости перестановочного критерия:\", pValue)"
      ],
      "execution_count": null,
      "outputs": [
        {
          "output_type": "stream",
          "text": [
            "None\n",
            "Достигаемый уровень значимости перестановочного критерия: 0.001\n"
          ],
          "name": "stdout"
        }
      ]
    },
    {
      "cell_type": "markdown",
      "metadata": {
        "id": "1zNJ1yhESeOq"
      },
      "source": [
        "Непараметрический перестановочный критерий для двух независимых выборок дает достигаемый уровень значимости намного меньше 0.05.\n",
        "Из этого можно сделать вывод, что гипотеза о равенстве распределений отвергается.\n",
        "С практической точки зрения этот результат говорят о том, что банк выдает большие кредиты надежным клиентам, которые не просрочивали выплаты."
      ]
    },
    {
      "cell_type": "markdown",
      "metadata": {
        "id": "n6Yes4lF6lXl"
      },
      "source": [
        "## Второе задание"
      ]
    },
    {
      "cell_type": "markdown",
      "metadata": {
        "id": "X65lGWoj6lXl"
      },
      "source": [
        "Проверьте гипотезу о том, что гендерный состав группы людей вернувших и не вернувших кредит отличается.\n"
      ]
    },
    {
      "cell_type": "markdown",
      "metadata": {
        "id": "AzarXpj6Ul5J"
      },
      "source": [
        "Н0 - что гендерный состав группы не отичается;\n",
        "\n",
        "Н1 - что гендерный состав группы отличается. "
      ]
    },
    {
      "cell_type": "code",
      "metadata": {
        "id": "IHCB4IHFUkn_"
      },
      "source": [
        "#Проверка через z-критерий\n",
        "sexDefaultZero = np.mod(data[data['default'] == 0]['SEX'],2)\n",
        "sexDefaultOne = np.mod(data[data['default'] == 1]['SEX'],2) \n",
        "#print(sexdefaultZero)"
      ],
      "execution_count": null,
      "outputs": []
    },
    {
      "cell_type": "code",
      "metadata": {
        "id": "ymy6BCus6lXl"
      },
      "source": [
        "#функция для расчета статистики\n",
        "# здесь Ваш код\n",
        "def proportions_diff_z_stat_ind(sample1, sample2):\n",
        "    n1 = len(sample1)\n",
        "    n2 = len(sample2)\n",
        "    \n",
        "    p1 = float(sum(sample1)) / n1\n",
        "    p2 = float(sum(sample2)) / n2 \n",
        "    P = float(p1*n1 + p2*n2) / (n1 + n2)\n",
        "    \n",
        "    return (p1 - p2) / np.sqrt(P * (1 - P) * (1. / n1 + 1. / n2))"
      ],
      "execution_count": null,
      "outputs": []
    },
    {
      "cell_type": "code",
      "metadata": {
        "id": "2X97nP0P6lXl"
      },
      "source": [
        "#функция для расчета Z критерия\n",
        "def proportions_diff_z_test(z_stat, alternative = 'two-sided'):\n",
        "    if alternative not in ('two-sided', 'less', 'greater'):\n",
        "        raise ValueError(\"alternative not recognized\\n\"\n",
        "                         \"should be 'two-sided', 'less' or 'greater'\")\n",
        "    \n",
        "    if alternative == 'two-sided':\n",
        "        return 2 * (1 - scipy.stats.norm.cdf(np.abs(z_stat)))\n",
        "    \n",
        "    if alternative == 'less':\n",
        "        return scipy.stats.norm.cdf(z_stat)\n",
        "\n",
        "    if alternative == 'greater':\n",
        "        return 1 - scipy.stats.norm.cdf(z_stat)"
      ],
      "execution_count": null,
      "outputs": []
    },
    {
      "cell_type": "code",
      "metadata": {
        "colab": {
          "base_uri": "https://localhost:8080/"
        },
        "id": "BNF1b_amokUm",
        "outputId": "84cbfe0e-17f5-4fd2-95e2-ba9d9ae7e426"
      },
      "source": [
        "p_value =  proportions_diff_z_test(proportions_diff_z_stat_ind(sexDefaultZero, sexDefaultOne)) #H1 != H0\n",
        "print(\"p-value: {:.15f}\".format(p_value))"
      ],
      "execution_count": null,
      "outputs": [
        {
          "output_type": "stream",
          "text": [
            "p-value: 0.000000000004473\n"
          ],
          "name": "stdout"
        }
      ]
    },
    {
      "cell_type": "markdown",
      "metadata": {
        "id": "3k8c0Op36lXl"
      },
      "source": [
        "Вывод: проверив с помощью Z критерия выяснили, что гипотиза H0 отвергается потомучто p-value < 0,05"
      ]
    },
    {
      "cell_type": "markdown",
      "metadata": {
        "id": "Q8Hl-Kxo6lXl"
      },
      "source": [
        "Проверьте гипотезу с помощью доверительных интервалов"
      ]
    },
    {
      "cell_type": "code",
      "metadata": {
        "id": "9MvYaHLO6lXl"
      },
      "source": [
        "#функция для расчета доверительного интервала\n",
        "def proportions_diff_confint_ind(sample1, sample2, alpha = 0.05):    \n",
        "    z = scipy.stats.norm.ppf(1 - alpha / 2.)\n",
        "    \n",
        "    p1 = float(sum(sample1)) / len(sample1)\n",
        "    p2 = float(sum(sample2)) / len(sample2)\n",
        "    \n",
        "    left_boundary = (p1 - p2) - z * np.sqrt(p1 * (1 - p1)/ len(sample1) + p2 * (1 - p2)/ len(sample2))\n",
        "    right_boundary = (p1 - p2) + z * np.sqrt(p1 * (1 - p1)/ len(sample1) + p2 * (1 - p2)/ len(sample2))\n",
        "    \n",
        "    return (left_boundary, right_boundary)"
      ],
      "execution_count": null,
      "outputs": []
    },
    {
      "cell_type": "code",
      "metadata": {
        "colab": {
          "base_uri": "https://localhost:8080/"
        },
        "id": "Qd3ZLFRf6lXl",
        "outputId": "b49a7141-d2d2-4bc1-82a5-62cfac70175f"
      },
      "source": [
        "# Здесь Ваш код\n",
        "interval = proportions_diff_confint_ind(sexDefaultZero,sexDefaultOne, alpha)\n",
        "print(\"Доверительный интервал находится в интервале между:\", interval[0], interval[1])"
      ],
      "execution_count": null,
      "outputs": [
        {
          "output_type": "stream",
          "text": [
            "Доверительный интервал находится в интервале между: -0.060548077974896725 -0.03363493274962867\n"
          ],
          "name": "stdout"
        }
      ]
    },
    {
      "cell_type": "markdown",
      "metadata": {
        "id": "lzbgiBOL6lXl"
      },
      "source": [
        "Вывод: гендорный состав отличается на 3%-6%. "
      ]
    },
    {
      "cell_type": "markdown",
      "metadata": {
        "id": "kyjDJTIS6lXl"
      },
      "source": [
        "## Третье задание "
      ]
    },
    {
      "cell_type": "markdown",
      "metadata": {
        "id": "lYYZyPsC6lXl"
      },
      "source": [
        "Проверьте гипотезу о том, что образование не влияет на то, вернет ли человек долг. Используйте stats.chi2_contingency() функцию для расчета кси-квадрат критерия"
      ]
    },
    {
      "cell_type": "markdown",
      "metadata": {
        "id": "WDOjzh_pjdaA"
      },
      "source": [
        "H0 -уровень образования не влияет на возврат кредита\n",
        "\n",
        "H1 -  влияет"
      ]
    },
    {
      "cell_type": "code",
      "metadata": {
        "colab": {
          "base_uri": "https://localhost:8080/"
        },
        "id": "S4G-4ba76lXl",
        "outputId": "dc891e7a-6172-41bf-abef-1a66713044c9"
      },
      "source": [
        "# Здесь Ваш код\n",
        "tableEdu = pd.crosstab( data.default, data.EDUCATION)\n",
        "print(tableEdu)\n",
        "chi2, pVal, dof, ex = stats.chi2_contingency(pd.crosstab( data.default, data.EDUCATION))\n",
        "print(\"chi2 contingency: {:.4f}, p-value: {}\".format( chi2, pVal))\n"
      ],
      "execution_count": 25,
      "outputs": [
        {
          "output_type": "stream",
          "text": [
            "EDUCATION   0     1      2     3    4    5   6\n",
            "default                                       \n",
            "0          14  8549  10700  3680  116  262  43\n",
            "1           0  2036   3330  1237    7   18   8\n",
            "chi2 contingency: 163.2166, p-value: 1.2332626245415605e-32\n"
          ],
          "name": "stdout"
        }
      ]
    },
    {
      "cell_type": "markdown",
      "metadata": {
        "id": "cnkeeID16lXl"
      },
      "source": [
        "Постройте график, отражающий уровень образования и разницу в прогнозе по возврату кредита"
      ]
    },
    {
      "cell_type": "code",
      "metadata": {
        "colab": {
          "base_uri": "https://localhost:8080/",
          "height": 712
        },
        "id": "0jdGDa0e6lXl",
        "outputId": "666ff474-8948-4169-c1bc-7993f007fca5"
      },
      "source": [
        "# Здесь Ваш код\n",
        "eduNames = [\"Доктор\", \"Магистр\", \"Бакалавр\", \"Вышка\", \"Начальное образование\", \"Без образования\"]\n",
        "eduDefaultZero = tableEdu.loc[0]\n",
        "eduDefaultOne  = tableEdu.loc[1]\n",
        "# a = tableEdu.loc[0] + tableEdu.loc[1]\n",
        "# b = tableEdu.sum()\n",
        "# print(np.array(a), np.array(b), np.array(eduDefaultZero))\n",
        "eduDiffScaled = np.array(eduDefaultZero) / np.array(tableEdu.sum())\n",
        "\n",
        "tableEduDiffScaled = pd.DataFrame(eduDiffScaled.reshape(1,7), columns=tableEdu.columns)\n",
        "#print(tableEduDiffScaled)\n",
        "tableEduDiffScaled.plot.bar(figsize=(15, 12))\n",
        "plt.title(\"Различия между теми кто вернул и теми кто не вернул дениги по кредиту\")\n",
        "plt.legend(eduNames)\n",
        "plt.show()"
      ],
      "execution_count": 53,
      "outputs": [
        {
          "output_type": "display_data",
          "data": {
            "image/png": "[encoded data removed]",
            "text/plain": [
              "<Figure size 1080x864 with 1 Axes>"
            ]
          },
          "metadata": {
            "tags": [],
            "needs_background": "light"
          }
        }
      ]
    },
    {
      "cell_type": "markdown",
      "metadata": {
        "id": "KunuGOr66lXl"
      },
      "source": [
        "Исходя из графика видно, что распределние не является равномерным, следовательно, образование влияет на то, вернёт ли человек долг. Реже всего возвращают долги категории Bachelor, Graduate school. Возвращают практически все долги только люди с Ph.D.."
      ]
    },
    {
      "cell_type": "markdown",
      "metadata": {
        "id": "4W74C27h6lXl"
      },
      "source": [
        "## Четвертое задание "
      ]
    },
    {
      "cell_type": "markdown",
      "metadata": {
        "id": "Q4j5y7j86lXl"
      },
      "source": [
        "Проверьте, как связан семейный статус с индикатором дефолта: нужно предложить меру, по которой можно измерить возможную связь этих переменных и посчитать ее значение"
      ]
    },
    {
      "cell_type": "markdown",
      "metadata": {
        "id": "YXsNwD2D7gFp"
      },
      "source": [
        "H0 - семейное положение не связано \n",
        "H1 -  связано"
      ]
    },
    {
      "cell_type": "code",
      "metadata": {
        "colab": {
          "base_uri": "https://localhost:8080/"
        },
        "id": "DMbS5WI16lXl",
        "outputId": "6cc786d0-e042-4d09-8561-9b2e362832ba"
      },
      "source": [
        "# здесь Ваш код\n",
        "tableMar = pd.crosstab( data.default, data.MARRIAGE)\n",
        "\n",
        "chi2, p, dof, exp = stats.chi2_contingency(tableMar)\n",
        "print('p-value = ', p)\n",
        "\n",
        "#коэффициент V Крамера\n",
        "n = data.shape[0] \n",
        "vCramer = ( chi2 / (n*(min(tableMar.shape)-1))) ** 0.5\n",
        "print('V Крамер = {:.4f}'.format(vCramer) )\n",
        "\n",
        "\n"
      ],
      "execution_count": null,
      "outputs": [
        {
          "output_type": "stream",
          "text": [
            "p-value =  8.825862457577375e-08\n",
            "V Крамер = 0.0345\n"
          ],
          "name": "stdout"
        }
      ]
    },
    {
      "cell_type": "markdown",
      "metadata": {
        "id": "QKkLQjT36lXl"
      },
      "source": [
        "Выводы: Так как коэффицент Крамера близок к 0, значит связь крайне мала. Поэтому отвергаем нулевую гипотезу.\n",
        "\n",
        "> Блок с отступами\n",
        "\n",
        "\n",
        "Семейное положение заемщика связано с возвратои или невозвратом кредита\n"
      ]
    },
    {
      "cell_type": "code",
      "metadata": {
        "id": "VjTrjJs8eMDB"
      },
      "source": [
        ""
      ],
      "execution_count": null,
      "outputs": []
    },
    {
      "cell_type": "markdown",
      "metadata": {
        "id": "BTLAI9gS6lXl"
      },
      "source": [
        "## Пятое задание"
      ]
    },
    {
      "cell_type": "markdown",
      "metadata": {
        "id": "9G40-Gbf6lXl"
      },
      "source": [
        "Относительно двух групп людей вернувших и не вернувших кредит проверьте следующие гипотезы: a) о равенстве медианных значений возрастов людей b) о равенстве распределений с помощью одного из подходящих непараметрических критериев проверки равенства средних. Значимы ли полученные результаты с практической точки зрения ?"
      ]
    },
    {
      "cell_type": "markdown",
      "metadata": {
        "id": "2HUkQYBme7l3"
      },
      "source": [
        " ### 1.а"
      ]
    },
    {
      "cell_type": "markdown",
      "metadata": {
        "id": "WP6G-zoseddS"
      },
      "source": [
        "H0 - возраст не влияет;\n",
        "\n",
        "H1 - возраст влияет."
      ]
    },
    {
      "cell_type": "code",
      "metadata": {
        "colab": {
          "base_uri": "https://localhost:8080/"
        },
        "id": "J-0et-FP6lXl",
        "outputId": "9ca91c2d-5155-4eeb-ec45-649411a97b98"
      },
      "source": [
        "# Здесь Ваш код\n",
        "AgeDefaultZero = data[data.default==0].AGE.values # возраст, тех кто вернул кредит\n",
        "AgeDefaultOne  = data[data.default==1].AGE.values # возоаст, для тех кто не вернул кредит\n",
        "\n",
        "#Test\n",
        "print(\"Проверим медианы возрастов\")\n",
        "print(\"Медиана для тек кто вернул {} \\nМедиана для тек кто не вернул {} \".format(np.median(AgeDefaultZero),np.median(AgeDefaultOne)) )\n",
        "#print(type(AgeDefaultOne), AgeDefaultOne.shape, max(AgeDefaultOne), max(AgeDefaultZero))"
      ],
      "execution_count": null,
      "outputs": [
        {
          "output_type": "stream",
          "text": [
            "Проверим медианы возрастов\n",
            "Медиана для тек кто вернул 34.0 \n",
            "Медиана для тек кто не вернул 34.0 \n"
          ],
          "name": "stdout"
        }
      ]
    },
    {
      "cell_type": "code",
      "metadata": {
        "colab": {
          "base_uri": "https://localhost:8080/"
        },
        "id": "JgonTosWcTDe",
        "outputId": "8b0363e2-06c4-4acd-a725-95141424d05e"
      },
      "source": [
        "#фиксируем генератор случайных чисел\n",
        "np.random.seed(0)\n",
        "#создаем по 1000 выборок и считаем на них медиану\n",
        "# используя map()\n",
        "AgeDefaulOneMedian = list( map(np.median,  get_bootstrap_samples(AgeDefaultOne, 1000)) ) \n",
        "AgeDefaultZeroMedian = list( map(np.median,  get_bootstrap_samples(AgeDefaultZero, 1000)) )\n",
        "\n",
        "print(set(defaulOneMedian))\n",
        "#Уровень доверия 95%\n",
        "сonfidenceIntervalZero = np.array( stat_intervals(AgeDefaultZeroMedian, alpha))\n",
        "сonfidenceIntervalOne  = np.array( stat_intervals(AgeDefaulOneMedian, alpha) )\n",
        "print(\"Доверительный интервалы для тех кто платит: \", сonfidenceIntervalZero)\n",
        "print(\"Доверительный интервалы для тех кто не платит: \", сonfidenceIntervalOne)\n",
        "\n",
        "#Сравниваем интервалы \n",
        "diffConfidenceInterval = сonfidenceIntervalZero - сonfidenceIntervalOne\n",
        "print(\"Разница между доверительным интервалом тек кто платил и тех кто не платит: \", diffConfidenceInterval)"
      ],
      "execution_count": null,
      "outputs": [
        {
          "output_type": "stream",
          "text": [
            "{90000.0, 85000.0, 80000.0, 100000.0}\n",
            "Доверительный интервалы для тех кто платит:  [34. 34.]\n",
            "Доверительный интервалы для тех кто не платит:  [34. 35.]\n",
            "Разница между доверительным интервалом тек кто платил и тех кто не платит:  [ 0. -1.]\n"
          ],
          "name": "stdout"
        }
      ]
    },
    {
      "cell_type": "markdown",
      "metadata": {
        "id": "M9jhOccSgYZR"
      },
      "source": [
        "Выводы: так как Доверительный интервалы пересикаются, а разница имеет ноль, можно сделать вывод, что возраст не влияет на выплату кредита. Принимаем гипотезу H0."
      ]
    },
    {
      "cell_type": "markdown",
      "metadata": {
        "id": "TcZnZdR-fD7z"
      },
      "source": [
        " ### 1.b"
      ]
    },
    {
      "cell_type": "markdown",
      "metadata": {
        "id": "auvB4IAxhHBJ"
      },
      "source": [
        "H0 - распределения выборок полностью равны\n",
        "\n",
        "H1 - распределения выборок отличаются "
      ]
    },
    {
      "cell_type": "code",
      "metadata": {
        "colab": {
          "base_uri": "https://localhost:8080/"
        },
        "id": "K7iavvbkfmUJ",
        "outputId": "6625753a-a5b9-4afd-db76-343dd36ac055"
      },
      "source": [
        "pValue = permutation_test(AgeDefaultZero, AgeDefaultOne, max_permutations=1000)\n",
        "print(\"Достигаемый уровень значимости перестановочного критерия:\", pValue)"
      ],
      "execution_count": null,
      "outputs": [
        {
          "output_type": "stream",
          "text": [
            "None\n",
            "Достигаемый уровень значимости перестановочного критерия: 0.013\n"
          ],
          "name": "stdout"
        }
      ]
    },
    {
      "cell_type": "markdown",
      "metadata": {
        "id": "Jk4stZP3d6G0"
      },
      "source": [
        "Непараметрический перестановочный критерий для двух независимых выборок дает достигаемый уровень значимости намного меньше 0.05. Из этого можно сделать вывод, что гипотеза о равенстве распределений отвергается. С практической точки зрения этот результат говорит о том, что банку всеравно на возраст клиента"
      ]
    },
    {
      "cell_type": "markdown",
      "metadata": {
        "id": "rZ-9XVK96lXl"
      },
      "source": [
        "#Выводы по всей лабораторной:\n",
        "В ходе лабораторной работы было выявлено, что на выдачу кредитов влияет надёжность заёмщика, пол заёмщика,образование и семейное положение. Возраст не играет большого значения."
      ]
    }
  ]
}